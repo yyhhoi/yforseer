{
 "cells": [
  {
   "cell_type": "markdown",
   "metadata": {},
   "source": [
    "# Import"
   ]
  },
  {
   "cell_type": "code",
   "execution_count": 3,
   "metadata": {},
   "outputs": [],
   "source": [
    "# import yfinance as yf\n",
    "import pandas as pd\n",
    "import os\n",
    "from os.path import join\n",
    "from datetime import datetime, timezone\n",
    "import pandas as pd\n",
    "from yforseer.scraping import update_raw_tables, load_ticker_list, RawDF_Schema\n",
    "data_dir = 'data/yahoo/tickerdaily'"
   ]
  },
  {
   "cell_type": "markdown",
   "metadata": {},
   "source": [
    "# Scraping"
   ]
  },
  {
   "cell_type": "code",
   "execution_count": null,
   "metadata": {},
   "outputs": [],
   "source": [
    "\n",
    "ticker_list = load_ticker_list('yforseer/ticker_list.csv')\n",
    "update_raw_tables(data_dir, ticker_list)"
   ]
  },
  {
   "cell_type": "markdown",
   "metadata": {},
   "source": [
    "# Combine dataframe"
   ]
  },
  {
   "cell_type": "code",
   "execution_count": 1,
   "metadata": {},
   "outputs": [],
   "source": [
    "from yforseer.prepare_data import combine_df\n",
    "combine_df(raw_data_dir = 'data/yahoo/tickerdaily', \n",
    "           save_df_pth = 'data/yahoo/artifacts/combined.csv')\n",
    "\n"
   ]
  },
  {
   "cell_type": "markdown",
   "metadata": {},
   "source": [
    "# Select time period, interpolate, stack arrays"
   ]
  },
  {
   "cell_type": "code",
   "execution_count": 6,
   "metadata": {},
   "outputs": [],
   "source": [
    "from yforseer.prepare_data import CombinedDF_Schema"
   ]
  },
  {
   "cell_type": "code",
   "execution_count": null,
   "metadata": {},
   "outputs": [],
   "source": [
    "combined_df = pd.read_csv('data/yahoo/artifacts/combined.csv').astype(CombinedDF_Schema)"
   ]
  },
  {
   "cell_type": "code",
   "execution_count": 9,
   "metadata": {},
   "outputs": [
    {
     "data": {
      "text/html": [
       "<div>\n",
       "<style scoped>\n",
       "    .dataframe tbody tr th:only-of-type {\n",
       "        vertical-align: middle;\n",
       "    }\n",
       "\n",
       "    .dataframe tbody tr th {\n",
       "        vertical-align: top;\n",
       "    }\n",
       "\n",
       "    .dataframe thead th {\n",
       "        text-align: right;\n",
       "    }\n",
       "</style>\n",
       "<table border=\"1\" class=\"dataframe\">\n",
       "  <thead>\n",
       "    <tr style=\"text-align: right;\">\n",
       "      <th></th>\n",
       "      <th>ticker_id</th>\n",
       "      <th>ticker_code</th>\n",
       "      <th>Date</th>\n",
       "      <th>Close</th>\n",
       "    </tr>\n",
       "  </thead>\n",
       "  <tbody>\n",
       "    <tr>\n",
       "      <th>0</th>\n",
       "      <td>0</td>\n",
       "      <td>1COV.DE</td>\n",
       "      <td>1996-10-30 00:00:00+01:00</td>\n",
       "      <td>10.742868</td>\n",
       "    </tr>\n",
       "    <tr>\n",
       "      <th>1</th>\n",
       "      <td>0</td>\n",
       "      <td>1COV.DE</td>\n",
       "      <td>1996-10-31 00:00:00+01:00</td>\n",
       "      <td>10.886429</td>\n",
       "    </tr>\n",
       "    <tr>\n",
       "      <th>2</th>\n",
       "      <td>0</td>\n",
       "      <td>1COV.DE</td>\n",
       "      <td>1996-11-01 00:00:00+01:00</td>\n",
       "      <td>10.937512</td>\n",
       "    </tr>\n",
       "    <tr>\n",
       "      <th>3</th>\n",
       "      <td>0</td>\n",
       "      <td>1COV.DE</td>\n",
       "      <td>1996-11-04 00:00:00+01:00</td>\n",
       "      <td>11.022678</td>\n",
       "    </tr>\n",
       "    <tr>\n",
       "      <th>4</th>\n",
       "      <td>0</td>\n",
       "      <td>1COV.DE</td>\n",
       "      <td>1996-11-05 00:00:00+01:00</td>\n",
       "      <td>11.229510</td>\n",
       "    </tr>\n",
       "    <tr>\n",
       "      <th>...</th>\n",
       "      <td>...</td>\n",
       "      <td>...</td>\n",
       "      <td>...</td>\n",
       "      <td>...</td>\n",
       "    </tr>\n",
       "    <tr>\n",
       "      <th>66551</th>\n",
       "      <td>10</td>\n",
       "      <td>VOW3.DE</td>\n",
       "      <td>2024-07-10 00:00:00+02:00</td>\n",
       "      <td>106.250000</td>\n",
       "    </tr>\n",
       "    <tr>\n",
       "      <th>66552</th>\n",
       "      <td>10</td>\n",
       "      <td>VOW3.DE</td>\n",
       "      <td>2024-07-11 00:00:00+02:00</td>\n",
       "      <td>107.150002</td>\n",
       "    </tr>\n",
       "    <tr>\n",
       "      <th>66553</th>\n",
       "      <td>10</td>\n",
       "      <td>VOW3.DE</td>\n",
       "      <td>2024-07-12 00:00:00+02:00</td>\n",
       "      <td>108.550003</td>\n",
       "    </tr>\n",
       "    <tr>\n",
       "      <th>66554</th>\n",
       "      <td>10</td>\n",
       "      <td>VOW3.DE</td>\n",
       "      <td>2024-07-15 00:00:00+02:00</td>\n",
       "      <td>108.199997</td>\n",
       "    </tr>\n",
       "    <tr>\n",
       "      <th>66555</th>\n",
       "      <td>10</td>\n",
       "      <td>VOW3.DE</td>\n",
       "      <td>2024-07-16 00:00:00+02:00</td>\n",
       "      <td>106.949997</td>\n",
       "    </tr>\n",
       "  </tbody>\n",
       "</table>\n",
       "<p>66556 rows × 4 columns</p>\n",
       "</div>"
      ],
      "text/plain": [
       "       ticker_id ticker_code                      Date       Close\n",
       "0              0     1COV.DE 1996-10-30 00:00:00+01:00   10.742868\n",
       "1              0     1COV.DE 1996-10-31 00:00:00+01:00   10.886429\n",
       "2              0     1COV.DE 1996-11-01 00:00:00+01:00   10.937512\n",
       "3              0     1COV.DE 1996-11-04 00:00:00+01:00   11.022678\n",
       "4              0     1COV.DE 1996-11-05 00:00:00+01:00   11.229510\n",
       "...          ...         ...                       ...         ...\n",
       "66551         10     VOW3.DE 2024-07-10 00:00:00+02:00  106.250000\n",
       "66552         10     VOW3.DE 2024-07-11 00:00:00+02:00  107.150002\n",
       "66553         10     VOW3.DE 2024-07-12 00:00:00+02:00  108.550003\n",
       "66554         10     VOW3.DE 2024-07-15 00:00:00+02:00  108.199997\n",
       "66555         10     VOW3.DE 2024-07-16 00:00:00+02:00  106.949997\n",
       "\n",
       "[66556 rows x 4 columns]"
      ]
     },
     "execution_count": 9,
     "metadata": {},
     "output_type": "execute_result"
    }
   ],
   "source": [
    "combined_df"
   ]
  }
 ],
 "metadata": {
  "kernelspec": {
   "display_name": "base",
   "language": "python",
   "name": "python3"
  },
  "language_info": {
   "codemirror_mode": {
    "name": "ipython",
    "version": 3
   },
   "file_extension": ".py",
   "mimetype": "text/x-python",
   "name": "python",
   "nbconvert_exporter": "python",
   "pygments_lexer": "ipython3",
   "version": "3.11.7"
  }
 },
 "nbformat": 4,
 "nbformat_minor": 2
}
