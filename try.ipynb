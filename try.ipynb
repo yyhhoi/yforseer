{
 "cells": [
  {
   "cell_type": "markdown",
   "metadata": {},
   "source": [
    "# Import"
   ]
  },
  {
   "cell_type": "code",
   "execution_count": 1,
   "metadata": {},
   "outputs": [],
   "source": [
    "import pandas as pd\n",
    "import os\n",
    "from os.path import join\n",
    "from datetime import datetime, timezone, timedelta\n",
    "import pandas as pd\n",
    "\n",
    "import matplotlib.pyplot as plt\n",
    "import numpy as np\n",
    "import logging\n",
    "import torch\n",
    "from torch.utils.data import DataLoader\n",
    "import torch.nn as nn\n",
    "from yforseer.networks import StockNet\n",
    "from yforseer.datasets import StockDataset\n",
    "from yforseer.trainers import StockNetTrainer\n",
    "import mlflow\n",
    "from tqdm import tqdm\n",
    "\n",
    "from yforseer.scraping import RawDF_Schema"
   ]
  },
  {
   "cell_type": "markdown",
   "metadata": {},
   "source": [
    "# Dataset and loader"
   ]
  },
  {
   "cell_type": "code",
   "execution_count": 2,
   "metadata": {},
   "outputs": [
    {
     "name": "stdout",
     "output_type": "stream",
     "text": [
      "train_dataset: 5289\n",
      "test_dataset: 508\n"
     ]
    }
   ],
   "source": [
    "\n",
    "# Load dataset\n",
    "load_array_pth = 'data/yahoo/artifacts/data_array.npz'\n",
    "data = torch.from_numpy(np.load(load_array_pth)['data']).to(torch.float32)\n",
    "num_days = data.shape[1]\n",
    "test_size = int(0.1 * num_days)\n",
    "train_size = num_days - test_size\n",
    "train_data = data[:, :train_size]\n",
    "test_data = data[:, train_size:]\n",
    "train_dataset = StockDataset(data = train_data, memory=60, lookahead=30, mode='last')\n",
    "test_dataset = StockDataset(data = test_data, memory=60, lookahead=30, mode='last')\n",
    "print('train_dataset:', len(train_dataset))\n",
    "print('test_dataset:', len(test_dataset))\n"
   ]
  },
  {
   "cell_type": "markdown",
   "metadata": {},
   "source": [
    "Data"
   ]
  },
  {
   "cell_type": "code",
   "execution_count": 3,
   "metadata": {},
   "outputs": [
    {
     "name": "stdout",
     "output_type": "stream",
     "text": [
      "(508, 71, 60)\n",
      "(508, 71)\n"
     ]
    }
   ],
   "source": [
    "# train_dataloader = DataLoader(train_dataset, batch_size=32, shuffle=False)\n",
    "test_dataloader = DataLoader(test_dataset, batch_size=32, shuffle=False)\n",
    "\n",
    "all_x_test = []\n",
    "all_y_test = []\n",
    "for X_test, y_test in test_dataloader:\n",
    "    all_x_test.append(X_test.numpy())\n",
    "    all_y_test.append(y_test.numpy().squeeze())\n",
    "\n",
    "all_x_test = np.concatenate(all_x_test, axis=0)\n",
    "all_y_test = np.concatenate(all_y_test, axis=0)\n",
    "\n",
    "print(all_x_test.shape)\n",
    "print(all_y_test.shape)\n"
   ]
  },
  {
   "cell_type": "code",
   "execution_count": 4,
   "metadata": {},
   "outputs": [],
   "source": [
    "from yforseer.evaluate import compute_return_rate, weighted_return, evaluate_stock_trend_prediction\n",
    "xlast = all_x_test[:, :, -1]\n",
    "ytest = all_y_test\n",
    "ypred = all_x_test[:, :, -1]\n",
    "\n",
    "\n",
    "evaluate_stock_trend_prediction(xlast, ypred, ytest)\n",
    "\n",
    "change_pred = (ypred - xlast) / xlast\n",
    "change_test = (ytest - xlast) / xlast\n",
    "\n",
    "\n",
    "# # Buy return rate\n",
    "\n",
    "buy_returns = compute_return_rate(change_pred, change_test, mode='buy')\n",
    "perfect_buy_returns = compute_return_rate(change_test, change_test, mode='buy')\n",
    "\n",
    "\n"
   ]
  },
  {
   "cell_type": "code",
   "execution_count": 17,
   "metadata": {},
   "outputs": [
    {
     "data": {
      "text/plain": [
       "(508, 3)"
      ]
     },
     "execution_count": 17,
     "metadata": {},
     "output_type": "execute_result"
    }
   ],
   "source": [
    "buy_returns.shape"
   ]
  },
  {
   "cell_type": "code",
   "execution_count": 18,
   "metadata": {},
   "outputs": [
    {
     "data": {
      "text/plain": [
       "[<matplotlib.lines.Line2D at 0x1fe1cfecd50>]"
      ]
     },
     "execution_count": 18,
     "metadata": {},
     "output_type": "execute_result"
    },
    {
     "data": {
      "image/png": "[encoded data removed]",
      "text/plain": [
       "<Figure size 640x480 with 1 Axes>"
      ]
     },
     "metadata": {},
     "output_type": "display_data"
    }
   ],
   "source": [
    "allreturns = perfect_buy_returns[:, 1]\n",
    "allreturns2 = perfect_buy_returns2[:, 1]\n",
    "plt.plot(allreturns)\n",
    "plt.plot(allreturns2)"
   ]
  },
  {
   "cell_type": "code",
   "execution_count": 19,
   "metadata": {},
   "outputs": [
    {
     "name": "stdout",
     "output_type": "stream",
     "text": [
      "True True\n",
      "True True\n",
      "True True\n"
     ]
    }
   ],
   "source": [
    "for i in range(3):\n",
    "    all = np.all(buy_returns[:, i] == buy_returns2[:, i])\n",
    "    allperfect = np.all(perfect_buy_returns[:, i] == perfect_buy_returns2[:, i])\n",
    "    print(all, allperfect)\n"
   ]
  },
  {
   "cell_type": "code",
   "execution_count": 29,
   "metadata": {},
   "outputs": [
    {
     "name": "stdout",
     "output_type": "stream",
     "text": [
      "[8.71830583e-01 6.73267007e-01 7.64223814e-01 7.82622933e-01\n",
      " 7.68188655e-01 7.75487304e-01 1.23985815e+00 8.50558877e-01\n",
      " 5.99028587e-01 5.08179724e-01 3.91886830e-01 4.77472514e-01\n",
      " 6.37842059e-01 6.26283586e-01 4.96546268e-01 3.42527688e-01\n",
      " 3.91509861e-01 3.18051666e-01 5.44604897e-01 3.88175845e-01\n",
      " 3.02460521e-01 2.86984146e-01 2.09992230e-01 1.82098627e-01\n",
      " 1.44974783e-01 1.68917120e-01 1.40459716e-01 1.25529408e-01\n",
      " 1.29095793e-01 1.31592244e-01 1.14016473e-01 1.25483364e-01\n",
      " 1.30807385e-01 1.07293516e-01 8.80019441e-02 9.50987786e-02\n",
      " 9.78420228e-02 9.73809659e-02 9.42154527e-02 8.93580317e-02\n",
      " 8.72087032e-02 9.40063000e-02 9.49084088e-02 7.99383223e-02\n",
      " 8.51881653e-02 8.33862275e-02 8.98237452e-02 1.13684498e-01\n",
      " 1.20986879e-01 1.07186943e-01 1.03374973e-01 1.17852032e-01\n",
      " 1.97147578e-01 2.36568242e-01 2.17642039e-01 3.28943133e-01\n",
      " 3.86310756e-01 3.43572080e-01 4.33356345e-01 3.50633919e-01\n",
      " 2.66214430e-01 6.60576344e-01 6.33427382e-01 5.81717610e-01\n",
      " 3.12369823e-01 2.86143541e-01 2.83505291e-01 6.02687359e-01\n",
      " 8.00958574e-01 6.90103054e-01 7.80139863e-01 1.37764788e+00\n",
      " 1.01123965e+00 9.21981037e-01 7.36479521e-01 1.10167611e+00\n",
      " 8.40347350e-01 1.72642822e+01 2.93758535e+00 1.46238947e+00\n",
      " 1.76325428e+00 3.24537969e+00 4.32474089e+00 1.75583756e+00\n",
      " 2.19918847e+00 1.68963226e+02 3.99267435e-01 5.75283110e-01\n",
      " 3.78905058e-01 1.44902617e-01 3.13242316e-01 2.06529751e-01\n",
      " 3.18545252e-01 2.17998192e-01 2.57299244e-01 2.81112432e-01\n",
      " 3.15027714e-01 2.88188040e-01 2.74382383e-01 3.15985352e-01\n",
      " 2.54024506e-01 3.01304102e-01 2.97070742e-01 2.78952390e-01\n",
      " 3.34633678e-01 4.19947565e-01 2.94069767e-01 3.46520603e-01\n",
      " 4.04756397e-01 4.84382182e-01 4.99938071e-01 4.51090395e-01\n",
      " 5.48689425e-01 5.97606778e-01 3.86794925e-01 4.13783461e-01\n",
      " 9.83710349e-01 1.27377462e+00 1.18561220e+00 1.38983858e+00\n",
      " 8.62127900e-01 1.37800860e+00 1.48652315e+00 1.42516124e+00\n",
      " 1.17150450e+00 9.55712914e-01 7.28219867e-01 8.71899188e-01\n",
      " 1.33289433e+00 1.13312912e+00 6.92783475e-01 1.79918170e+00\n",
      " 5.31237543e-01 4.18284446e-01 4.12900746e-01 4.56785351e-01\n",
      " 2.23801792e-01 1.99698240e-01 2.32159838e-01 2.10226685e-01\n",
      " 1.88440740e-01 2.57247657e-01 2.36075640e-01 3.26616764e-01\n",
      " 2.43608981e-01 2.52682865e-01 2.13441819e-01 1.72787696e-01\n",
      " 1.21479988e-01 1.43341660e-01 8.68747234e-02 1.02522030e-01\n",
      " 1.09205090e-01 8.57851952e-02 7.45278001e-02 1.17322996e-01\n",
      " 1.21139675e-01 1.42138958e-01 9.22795385e-02 9.78761092e-02\n",
      " 1.13581359e-01 1.34500071e-01 1.64078727e-01 2.14161411e-01\n",
      " 1.89710438e-01 1.91403151e-01 3.72940111e+00 1.93584716e+00\n",
      " 8.49290311e-01 2.55659401e-01 2.86142617e-01 3.15932125e-01\n",
      " 3.11950564e-01 3.00398529e-01 3.20198655e-01 3.07030588e-01\n",
      " 3.77239257e-01 5.57904065e-01 4.75518167e-01 3.83441627e-01\n",
      " 4.46818113e-01 3.82434011e-01 4.23264414e-01 3.46374094e-01\n",
      " 7.80546236e+00 1.04155207e+01 1.86031058e-01 2.23504901e-01\n",
      " 3.36993065e+01 9.89105034e+00 1.79747689e+00 1.40325248e+00\n",
      " 1.71937323e+00 5.00848007e+00 1.37214720e+00 1.13039827e+00\n",
      " 4.77211326e-01 1.09820211e+00 8.53463173e-01 1.32041669e+00\n",
      " 3.56762528e-01 3.41097772e-01 4.19851363e-01 1.78266621e+00\n",
      " 7.77143955e-01 5.95797539e-01 5.61668515e-01 6.79937601e-01\n",
      " 6.60346687e-01 8.36667299e-01 3.28965962e-01 4.16552842e-01\n",
      " 3.06324482e-01 2.22313166e-01 2.43697435e-01 3.38946879e-01\n",
      " 1.87718600e-01 1.28651202e-01 1.04388721e-01 1.09322965e-01\n",
      " 8.78725424e-02 1.40706360e-01 1.71631843e-01 3.94161195e-01\n",
      " 5.43688774e-01 2.75247872e-01 2.14915246e-01 1.28556132e-01\n",
      " 1.76276147e-01 6.52181432e-02 1.05414391e-01 7.01814741e-02\n",
      " 7.48837665e-02 7.46218264e-02 7.24660754e-02 8.87389779e-02\n",
      " 1.05083741e-01 9.18102935e-02 7.92542845e-02 7.85332546e-02\n",
      " 7.69107044e-02 1.64790303e-01 5.86236119e-01 4.23356801e-01\n",
      " 4.50245678e-01 3.63147706e-01 5.54807842e-01 3.88794869e-01\n",
      " 8.61482811e+00 5.93625784e+00 7.01904392e+00 1.89408231e+00\n",
      " 3.05395961e+00 2.83296037e+00 2.58892059e-01 5.49270868e+00\n",
      " 6.24939823e+00 1.27079916e+00 1.40123868e+00 1.20150852e+00\n",
      " 9.97963548e-01 2.67407632e+00 2.11113501e+00 2.25859070e+00\n",
      " 1.42606890e+00 1.25205040e+00 1.30105317e+00 1.23729587e+00\n",
      " 2.39299273e+00 1.53895473e+00 1.05708933e+00 1.03639638e+00\n",
      " 2.68233091e-01 2.43814513e-01 2.53026605e-01 2.97572076e-01\n",
      " 2.65303850e-01 2.77266502e-01 3.53679717e-01 3.89995545e-01\n",
      " 4.73624170e-01 5.85512638e-01 4.39748377e-01 3.84249240e-01\n",
      " 4.10163939e-01 3.45763564e-01 2.46863216e-01 2.70850003e-01\n",
      " 2.52736449e-01 2.44406477e-01 1.90468043e-01 1.95735946e-01\n",
      " 1.71080828e-01 1.47396982e-01 1.53984040e-01 1.62545651e-01\n",
      " 1.35438740e-01 1.80126160e-01 1.46295696e-01 1.57536238e-01\n",
      " 1.69436574e-01 2.01395988e-01 1.74583718e-01 1.84367716e-01\n",
      " 1.67566389e-01 1.63481146e-01 1.33240983e-01 7.44642690e-02\n",
      " 6.80079013e-02 5.71309663e-02 7.08428845e-02 6.88039362e-02\n",
      " 8.13171193e-02 6.85685202e-02 6.65740892e-02 6.44257367e-02\n",
      " 8.57638419e-02 8.03234130e-02 8.81536677e-02 1.18359447e-01\n",
      " 1.47235960e-01 1.38426006e-01 1.04912177e-01 1.19686157e-01\n",
      " 1.92893267e-01 1.75309598e-01 1.84673488e-01 1.70012057e-01\n",
      " 2.08036944e-01 1.48207024e-01 1.67687297e-01 1.74005300e-01\n",
      " 2.56279647e-01 2.47270614e-01 2.28324980e-01 2.91345596e-01\n",
      " 2.49807894e-01 3.58666688e-01 2.92117178e-01 2.60602713e-01\n",
      " 2.30522916e-01 2.55135655e-01 2.92387366e-01 3.10243398e-01\n",
      " 2.75604874e-01 2.57689208e-01 2.08119512e-01 2.23529413e-01\n",
      " 2.15596139e-01 2.11468220e-01 1.64509490e-01 1.49079487e-01\n",
      " 1.60415858e-01 1.54790461e-01 1.17885731e-01 1.13383487e-01\n",
      " 1.23314142e-01 1.10211015e-01 1.03817806e-01 8.69978219e-02\n",
      " 6.67514130e-02 7.81018957e-02 7.49987215e-02 8.02522600e-02\n",
      " 8.49514008e-02 9.48054418e-02 6.61566925e+01 8.34399164e-02\n",
      " 9.57968459e-02 1.11198410e-01 1.39905065e-01 1.19860858e-01\n",
      " 1.23406351e-01 1.18148372e-01 1.22402363e-01 1.61834329e-01\n",
      " 1.93495750e-01 1.49419069e-01 1.69155017e-01 1.48896098e-01\n",
      " 1.61165059e-01 1.68522656e-01 1.54212341e-01 1.80211261e-01\n",
      " 1.89506441e-01 2.39161611e-01 2.19706446e-01 2.61511266e-01\n",
      " 2.87683308e-01 4.72685852e+01 3.20150852e-01 7.91031599e+00\n",
      " 8.91290379e+00 7.75493813e+00 1.09766045e+01 9.07479668e+00\n",
      " 6.31058455e+00 3.22290635e+00 3.72883248e+00 3.44390869e+00\n",
      " 1.98464608e+00 2.09006367e+01 5.70575333e+01 1.57372942e+01\n",
      " 1.94785233e+01 8.21035767e+00 6.74047947e+00 3.65417576e+00\n",
      " 1.81334949e+00 2.07501340e+00 2.15937424e+00 2.30477381e+00\n",
      " 2.68352532e+00 3.44473696e+00 2.89196944e+00 2.75225639e+00\n",
      " 3.09846902e+00 2.73806047e+00 1.84480059e+00 1.32159007e+00\n",
      " 1.26091051e+00 1.04919422e+00 8.23078752e-01 6.70193732e-01\n",
      " 6.30400896e-01 6.49343967e-01 6.65334523e-01 5.89872003e-01\n",
      " 5.48868299e-01 4.37353909e-01 3.98341954e-01 4.03073579e-01\n",
      " 4.32988733e-01 4.76079285e-01 3.74314576e-01 3.32463801e-01\n",
      " 2.42822200e-01 2.92870998e-01 3.81939411e-01 3.86008024e-01\n",
      " 3.85421932e-01 2.16468841e-01 2.11788028e-01 1.60523742e-01\n",
      " 2.45023504e-01 2.20713764e-01 1.65548056e-01 1.67165726e-01\n",
      " 1.58739656e-01 1.87944338e-01 2.18719348e-01 1.97731286e-01\n",
      " 1.67505711e-01 1.79025292e-01 2.43652955e-01 2.19853312e-01\n",
      " 1.79261744e-01 2.26127297e-01 2.25899860e-01 2.75717199e-01\n",
      " 2.52313763e-01 2.40328699e-01 2.81459391e-01 2.63816476e-01\n",
      " 3.03271204e-01 2.90428400e-01 1.44997132e+00 6.79530442e-01\n",
      " 8.77369881e-01 1.76101570e+01 2.72060490e+01 1.57138884e+00\n",
      " 9.00678158e+00 1.38085718e+01 1.77825713e+00 1.94178498e+00\n",
      " 2.07271767e+00 2.54007459e+00 2.16599607e+00 1.63948321e+00\n",
      " 2.64127612e+00 3.62785864e+00 2.51438665e+00 1.90992773e+00\n",
      " 1.18787327e+01 3.87949066e+01 2.31935906e+00 9.61013675e-01\n",
      " 1.33346844e+00 1.34989429e+00 7.02968001e-01 5.41860759e-01\n",
      " 2.12648228e-01 1.97929844e-01 1.69380277e-01 1.33152634e-01\n",
      " 1.30654112e-01 1.13052994e-01 1.20757610e-01 8.19395706e-02\n",
      " 1.02998905e-01 1.03352107e-01 2.73211300e-01 4.82246369e-01\n",
      " 3.17793578e-01 1.59929872e-01 1.45057172e-01 1.02692246e-01]\n"
     ]
    }
   ],
   "source": [
    "change_test_copied = change_test.copy()\n",
    "\n",
    "\n",
    "# Buy or Sell mode\n",
    "mask = change_test <= 0\n",
    "trade_sign = 1 \n",
    "\n",
    "# Sort    \n",
    "change_test_copied[mask] = 0\n",
    "perfect_sorted_inds = np.argsort(trade_sign*change_test_copied, axis=-1)\n",
    "M = perfect_sorted_inds.shape[-1]\n",
    "\n",
    "trade_returns = []\n",
    "perfect_trade_returns = []\n",
    "i = M\n",
    "selected_perfect_sorted_tops_inds = perfect_sorted_inds[:, -i:]\n",
    "sorted_perfect_change_test = np.take_along_axis(change_test_copied, selected_perfect_sorted_tops_inds, axis=1)\n",
    "\n",
    "# Compute return with perfect prediction\n",
    "perfect_trade_return = weighted_return(sorted_perfect_change_test, trade_sign*sorted_perfect_change_test, batch=True)\n",
    "\n",
    "print(perfect_trade_return)"
   ]
  },
  {
   "cell_type": "markdown",
   "metadata": {},
   "source": [
    "# Bull/Bear"
   ]
  },
  {
   "cell_type": "code",
   "execution_count": 31,
   "metadata": {},
   "outputs": [
    {
     "data": {
      "text/plain": [
       "[<matplotlib.lines.Line2D at 0x193ecdc8810>]"
      ]
     },
     "execution_count": 31,
     "metadata": {},
     "output_type": "execute_result"
    },
    {
     "data": {
      "image/png": "[encoded data removed]",
      "text/plain": [
       "<Figure size 640x480 with 1 Axes>"
      ]
     },
     "metadata": {},
     "output_type": "display_data"
    }
   ],
   "source": [
    "from scipy.ndimage import gaussian_filter1d\n",
    "\n",
    "xdiff = np.diff(data, axis=1)\n",
    "\n",
    "xdiff = np.append(xdiff, np.zeros((xdiff.shape[0], 1)), axis=1)\n",
    "\n",
    "frac_change = xdiff/ data\n",
    "\n",
    "trend = np.mean(frac_change, axis=0)\n",
    "\n",
    "# \n",
    "\n",
    "\n",
    "smooth_trend = gaussian_filter1d(trend, 50)\n",
    "\n",
    "plt.plot(trend/np.abs(trend).max() * np.abs(smooth_trend).max())\n",
    "\n",
    "plt.plot(smooth_trend)"
   ]
  }
 ],
 "metadata": {
  "kernelspec": {
   "display_name": "Python 3 (ipykernel)",
   "language": "python",
   "name": "python3"
  },
  "language_info": {
   "codemirror_mode": {
    "name": "ipython",
    "version": 3
   },
   "file_extension": ".py",
   "mimetype": "text/x-python",
   "name": "python",
   "nbconvert_exporter": "python",
   "pygments_lexer": "ipython3",
   "version": "3.11.7"
  }
 },
 "nbformat": 4,
 "nbformat_minor": 4
}
