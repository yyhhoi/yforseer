{
 "cells": [
  {
   "cell_type": "code",
   "execution_count": 254,
   "metadata": {},
   "outputs": [],
   "source": [
    "import yfinance as yf\n",
    "import pandas as pd\n",
    "import os\n",
    "from os.path import join\n",
    "from datetime import datetime, timezone\n",
    "\n",
    "\n",
    "def load_ticker_list(pth: str) -> list[str]:\n",
    "    ticker_list = pd.read_csv(pth)['ticker_name'].to_list()\n",
    "    return ticker_list\n",
    "\n",
    "Schema = {\n",
    "    'Date': 'datetime64[ns, Europe/Berlin]',\n",
    "    'Open': 'float64',\n",
    "    'High': 'float64',\n",
    "    'Low': 'float64',\n",
    "    'Close': 'float64',\n",
    "    'Volume': 'int64',\n",
    "    'Dividends': 'float64',\n",
    "    'Stock Splits': 'float64',\n",
    "    'Repaired?': 'bool'\n",
    "}\n",
    "\n"
   ]
  },
  {
   "cell_type": "code",
   "execution_count": null,
   "metadata": {},
   "outputs": [],
   "source": [
    "load_ticker_list"
   ]
  },
  {
   "cell_type": "code",
   "execution_count": 1,
   "metadata": {},
   "outputs": [
    {
     "name": "stdout",
     "output_type": "stream",
     "text": [
      "0/5: NVD.DE\n",
      "Existing NVD.DE table found.\n",
      "NVD.DE is up to date. Last UTC date is 2024-07-09 >= 2024-07-09.\n",
      "1/5: MBG.DE\n",
      "Downloading MBG.DE for the whole period\n",
      "2/5: MSF.DE\n",
      "Downloading MSF.DE for the whole period\n",
      "3/5: APC.DE\n",
      "Downloading APC.DE for the whole period\n",
      "4/5: 1COV.DE\n",
      "Existing 1COV.DE table found.\n",
      "1COV.DE is up to date. Last UTC date is 2024-07-09 >= 2024-07-09.\n"
     ]
    }
   ],
   "source": [
    "from yforseer.scraping import update_raw_tables, load_ticker_list\n",
    "data_dir = 'data/yahoo/tickerdaily'\n",
    "ticker_list = load_ticker_list('yforseer/ticker_list.csv')\n",
    "update_raw_tables(data_dir, ticker_list)"
   ]
  },
  {
   "cell_type": "code",
   "execution_count": 204,
   "metadata": {},
   "outputs": [
    {
     "data": {
      "text/plain": [
       "datetime.datetime(2024, 7, 10, 12, 17, 9, 285333, tzinfo=datetime.timezone.utc)"
      ]
     },
     "execution_count": 204,
     "metadata": {},
     "output_type": "execute_result"
    }
   ],
   "source": [
    "today_de = datetime.now().date()\n",
    "nowtime_utc = datetime.now(timezone.utc)\n",
    "today_de = nowtime_de.date()\n",
    "today_utc = nowtime_utc.date()\n",
    "\n"
   ]
  },
  {
   "cell_type": "code",
   "execution_count": 9,
   "metadata": {},
   "outputs": [],
   "source": [
    "pth = 'yforseer/ticker_list.csv'\n",
    "ticker_list = load_ticker_list(pth)"
   ]
  },
  {
   "cell_type": "code",
   "execution_count": 17,
   "metadata": {},
   "outputs": [],
   "source": [
    "data_dir = 'data/yahoo/tickerdaily'\n",
    "def update_raw_tables(data_dir, ticker_list):\n",
    "    '''\n",
    "    Control flow\n",
    "    - If ticker_name.csv not exists, download and store\n",
    "    - If ticker_name.csv exists\n",
    "        - If last date is not today, download and update\n",
    "        - If last date is today, do nothing\n",
    "    '''\n",
    "    N = len(ticker_list)\n",
    "    for i, ticker_name in enumerate(ticker_list):\n",
    "        print('%d/%d: %s'%(i, N, ticker_name))\n",
    "\n",
    "        ticker = yf.Ticker(ticker_name)\n",
    "        csv_pth = join(data_dir, f'{ticker_name}.csv')\n",
    "\n",
    "        today = datetime.now().date()\n",
    "\n",
    "        if os.path.exists(csv_pth):\n",
    "            print('Existing %s table found.'%(ticker_name))\n",
    "\n",
    "            df = pd.read_csv(csv_pth, index_col=0)\n",
    "            df = df.astype(Schema)\n",
    "            latest_datetime = df['Date'].max()  \n",
    "            latest_day = latest_datetime.date() \n",
    "            endday = today - pd.Timedelta(days=1)\n",
    "            if latest_day >= endday:\n",
    "                print(f'{ticker_name} is up to date. Last UTC date is {str(latest_day)} >= {endday}.')\n",
    "            else:\n",
    "                print(f'{ticker_name} = {str(latest_day)}, while today is {today}')\n",
    "\n",
    "                start_scrape_day = latest_day + pd.Timedelta(days=1)  # in DE time\n",
    "                hist = ticker.history(\n",
    "                    interval = '1d',\n",
    "                    period = None,\n",
    "                    end = today,  # exclusive, so the still-updating data today is not included.\n",
    "                    start= start_scrape_day,  # Inclusive, so starting one day after the last day.\n",
    "                    repair=True)\n",
    "                hist.reset_index(inplace=True)\n",
    "                hist = hist.astype(Schema)\n",
    "                hist['Date'] = pd.to_datetime(hist['Date'])\n",
    "                print('Extracted date %s to %s'%(str(hist['Date'].min().date()), str(hist['Date'].max().date())))\n",
    "            df2 = pd.concat([df, hist], ignore_index=True)\n",
    "            df2.to_csv(csv_pth)\n",
    "\n",
    "        else:\n",
    "            print('Downloading %s for the whole period'%(ticker_name))\n",
    "            hist = ticker.history(interval = '1d', period = None, end=today, repair=True)\n",
    "            hist.reset_index(inplace=True)\n",
    "            hist = hist.astype(Schema)\n",
    "            hist.to_csv(csv_pth)\n",
    "\n",
    "\n",
    "\n",
    "\n",
    "\n",
    "\n"
   ]
  },
  {
   "cell_type": "code",
   "execution_count": 233,
   "metadata": {},
   "outputs": [
    {
     "name": "stdout",
     "output_type": "stream",
     "text": [
      "Existing NVD.DE table found.\n",
      "NVD.DE is up to date. Last UTC date is 2024-07-09 >= 2024-07-09.\n"
     ]
    },
    {
     "name": "stderr",
     "output_type": "stream",
     "text": [
      "C:\\Users\\yyhho\\AppData\\Local\\Temp\\ipykernel_17392\\1534007027.py:10: FutureWarning: In a future version of pandas, parsing datetimes with mixed time zones will raise an error unless `utc=True`. Please specify `utc=True` to opt in to the new behaviour and silence this warning. To create a `Series` with mixed offsets and `object` dtype, please use `apply` and `datetime.datetime.strptime`\n",
      "  df['Date'] = pd.to_datetime(df['Date'])\n"
     ]
    }
   ],
   "source": [
    "ticker_name = 'NVD.DE'\n",
    "ticker = yf.Ticker(ticker_name)\n",
    "csv_pth = join(data_dir, f'{ticker_name}.csv')\n",
    "\n",
    "today = datetime.now().date()\n",
    "\n",
    "if os.path.exists(csv_pth):\n",
    "    print('Existing %s table found.'%(ticker_name))\n",
    "\n",
    "    df = pd.read_csv(csv_pth, index_col=0)\n",
    "    df = df.astype(Schema)\n",
    "    latest_datetime = df['Date'].max()  \n",
    "    latest_day = latest_datetime.date() \n",
    "    endday = today - pd.Timedelta(days=1)\n",
    "    if latest_day >= endday:\n",
    "        print(f'{ticker_name} is up to date. Last UTC date is {str(latest_day)} >= {endday}.')\n",
    "    else:\n",
    "        print(f'{ticker_name} = {str(latest_day)}, while today is {today}')\n",
    "\n",
    "        start_scrape_day = latest_day + pd.Timedelta(days=1)  # in DE time\n",
    "        hist = ticker.history(\n",
    "            interval = '1d',\n",
    "            period = None,\n",
    "            end = today,  # exclusive, so the still-updating data today is not included.\n",
    "            start= start_scrape_day,  # Inclusive, so starting one day after the last day.\n",
    "            repair=True)\n",
    "        hist.reset_index(inplace=True)\n",
    "        hist = hist.astype(Schema)\n",
    "        hist['Date'] = pd.to_datetime(hist['Date'])\n",
    "        print('Extracted date %s to %s'%(str(hist['Date'].min().date()), str(hist['Date'].max().date())))\n",
    "    df2 = pd.concat([df, hist], ignore_index=True)\n",
    "    df2.to_csv(csv_pth)\n",
    "\n",
    "else:\n",
    "    print('Downloading %s for the whole period'%(ticker_name))\n",
    "    hist = ticker.history(interval = '1d', period = None, end=today, repair=True)\n",
    "    hist.reset_index(inplace=True)\n",
    "    hist = hist.astype(Schema)\n",
    "    hist.to_csv(csv_pth)\n"
   ]
  },
  {
   "cell_type": "code",
   "execution_count": 251,
   "metadata": {},
   "outputs": [
    {
     "data": {
      "text/plain": [
       "Date            datetime64[ns, Europe/Berlin]\n",
       "Open                                  float64\n",
       "High                                  float64\n",
       "Low                                   float64\n",
       "Close                                 float64\n",
       "Volume                                  int64\n",
       "Dividends                             float64\n",
       "Stock Splits                          float64\n",
       "Repaired?                                bool\n",
       "dtype: object"
      ]
     },
     "execution_count": 251,
     "metadata": {},
     "output_type": "execute_result"
    }
   ],
   "source": [
    "df.dtypes"
   ]
  },
  {
   "cell_type": "code",
   "execution_count": 253,
   "metadata": {},
   "outputs": [
    {
     "data": {
      "text/plain": [
       "0      2007-12-13 00:00:00+01:00\n",
       "1      2007-12-14 00:00:00+01:00\n",
       "2      2007-12-17 00:00:00+01:00\n",
       "3      2007-12-18 00:00:00+01:00\n",
       "4      2007-12-19 00:00:00+01:00\n",
       "                  ...           \n",
       "4222   2024-07-03 00:00:00+02:00\n",
       "4223   2024-07-04 00:00:00+02:00\n",
       "4224   2024-07-05 00:00:00+02:00\n",
       "4225   2024-07-08 00:00:00+02:00\n",
       "4226   2024-07-09 00:00:00+02:00\n",
       "Name: Date, Length: 4227, dtype: datetime64[ns, Europe/Berlin]"
      ]
     },
     "execution_count": 253,
     "metadata": {},
     "output_type": "execute_result"
    }
   ],
   "source": [
    "\n",
    "\n",
    "df = pd.read_csv(csv_pth, index_col=0)\n",
    "df = df.astype(Schema)\n",
    "df['Date']"
   ]
  },
  {
   "cell_type": "code",
   "execution_count": 245,
   "metadata": {},
   "outputs": [
    {
     "data": {
      "text/plain": [
       "0      2007-12-13 00:00:00+01:00\n",
       "1      2007-12-14 00:00:00+01:00\n",
       "2      2007-12-17 00:00:00+01:00\n",
       "3      2007-12-18 00:00:00+01:00\n",
       "4      2007-12-19 00:00:00+01:00\n",
       "                  ...           \n",
       "4222   2024-07-03 00:00:00+02:00\n",
       "4223   2024-07-04 00:00:00+02:00\n",
       "4224   2024-07-05 00:00:00+02:00\n",
       "4225   2024-07-08 00:00:00+02:00\n",
       "4226   2024-07-09 00:00:00+02:00\n",
       "Name: Date, Length: 4227, dtype: datetime64[ns, Europe/Berlin]"
      ]
     },
     "execution_count": 245,
     "metadata": {},
     "output_type": "execute_result"
    }
   ],
   "source": [
    "df = pd.read_csv(csv_pth, index_col=0)\n",
    "df['Date'] = pd.to_datetime(df['Date'], utc=True)\n",
    "df['Date'] = df['Date'].dt.tz_convert('Europe/Berlin')\n",
    "df['Date']"
   ]
  },
  {
   "cell_type": "code",
   "execution_count": 244,
   "metadata": {},
   "outputs": [
    {
     "data": {
      "text/plain": [
       "0      2007-12-13 00:00:00+01:00\n",
       "1      2007-12-14 00:00:00+01:00\n",
       "2      2007-12-17 00:00:00+01:00\n",
       "3      2007-12-18 00:00:00+01:00\n",
       "4      2007-12-19 00:00:00+01:00\n",
       "                  ...           \n",
       "4222   2024-07-03 00:00:00+02:00\n",
       "4223   2024-07-04 00:00:00+02:00\n",
       "4224   2024-07-05 00:00:00+02:00\n",
       "4225   2024-07-08 00:00:00+02:00\n",
       "4226   2024-07-09 00:00:00+02:00\n",
       "Name: Date, Length: 4227, dtype: datetime64[ns, Europe/Berlin]"
      ]
     },
     "execution_count": 244,
     "metadata": {},
     "output_type": "execute_result"
    }
   ],
   "source": [
    "df['Date'].dt.tz_convert('Europe/Berlin')"
   ]
  },
  {
   "cell_type": "code",
   "execution_count": 213,
   "metadata": {},
   "outputs": [
    {
     "data": {
      "text/plain": [
       "datetime.date(2024, 7, 10)"
      ]
     },
     "execution_count": 213,
     "metadata": {},
     "output_type": "execute_result"
    }
   ],
   "source": [
    "today_utc = datetime.now(timezone.utc).date()\n",
    "today_utc"
   ]
  },
  {
   "cell_type": "code",
   "execution_count": 211,
   "metadata": {},
   "outputs": [
    {
     "data": {
      "text/plain": [
       "datetime.date(2024, 7, 9)"
      ]
     },
     "execution_count": 211,
     "metadata": {},
     "output_type": "execute_result"
    }
   ],
   "source": [
    "endday_utc = today_utc - pd.Timedelta(days=1)\n",
    "endday_utc"
   ]
  },
  {
   "cell_type": "code",
   "execution_count": 184,
   "metadata": {},
   "outputs": [
    {
     "data": {
      "text/html": [
       "<div>\n",
       "<style scoped>\n",
       "    .dataframe tbody tr th:only-of-type {\n",
       "        vertical-align: middle;\n",
       "    }\n",
       "\n",
       "    .dataframe tbody tr th {\n",
       "        vertical-align: top;\n",
       "    }\n",
       "\n",
       "    .dataframe thead th {\n",
       "        text-align: right;\n",
       "    }\n",
       "</style>\n",
       "<table border=\"1\" class=\"dataframe\">\n",
       "  <thead>\n",
       "    <tr style=\"text-align: right;\">\n",
       "      <th></th>\n",
       "      <th>Date</th>\n",
       "      <th>Open</th>\n",
       "      <th>High</th>\n",
       "      <th>Low</th>\n",
       "      <th>Close</th>\n",
       "      <th>Volume</th>\n",
       "      <th>Dividends</th>\n",
       "      <th>Stock Splits</th>\n",
       "      <th>Repaired?</th>\n",
       "    </tr>\n",
       "  </thead>\n",
       "  <tbody>\n",
       "    <tr>\n",
       "      <th>0</th>\n",
       "      <td>2024-07-07 22:00:00+00:00</td>\n",
       "      <td>65.290001</td>\n",
       "      <td>65.930000</td>\n",
       "      <td>65.169998</td>\n",
       "      <td>65.389999</td>\n",
       "      <td>1568407</td>\n",
       "      <td>0.0</td>\n",
       "      <td>0.0</td>\n",
       "      <td>False</td>\n",
       "    </tr>\n",
       "    <tr>\n",
       "      <th>1</th>\n",
       "      <td>2024-07-08 22:00:00+00:00</td>\n",
       "      <td>63.840000</td>\n",
       "      <td>64.220001</td>\n",
       "      <td>62.849998</td>\n",
       "      <td>63.150002</td>\n",
       "      <td>5259368</td>\n",
       "      <td>0.0</td>\n",
       "      <td>0.0</td>\n",
       "      <td>False</td>\n",
       "    </tr>\n",
       "    <tr>\n",
       "      <th>2</th>\n",
       "      <td>2024-07-09 22:00:00+00:00</td>\n",
       "      <td>63.230000</td>\n",
       "      <td>63.639999</td>\n",
       "      <td>62.689999</td>\n",
       "      <td>63.250000</td>\n",
       "      <td>735967</td>\n",
       "      <td>0.0</td>\n",
       "      <td>0.0</td>\n",
       "      <td>False</td>\n",
       "    </tr>\n",
       "  </tbody>\n",
       "</table>\n",
       "</div>"
      ],
      "text/plain": [
       "                       Date       Open       High        Low      Close  \\\n",
       "0 2024-07-07 22:00:00+00:00  65.290001  65.930000  65.169998  65.389999   \n",
       "1 2024-07-08 22:00:00+00:00  63.840000  64.220001  62.849998  63.150002   \n",
       "2 2024-07-09 22:00:00+00:00  63.230000  63.639999  62.689999  63.250000   \n",
       "\n",
       "    Volume  Dividends  Stock Splits  Repaired?  \n",
       "0  1568407        0.0           0.0      False  \n",
       "1  5259368        0.0           0.0      False  \n",
       "2   735967        0.0           0.0      False  "
      ]
     },
     "execution_count": 184,
     "metadata": {},
     "output_type": "execute_result"
    }
   ],
   "source": [
    "hist2 = ticks.history(interval = '1d', period = None, start=today_de - pd.Timedelta(days=2), repair=True)\n",
    "hist2.reset_index(inplace=True)\n",
    "hist2['Date'] = pd.to_datetime(hist2['Date'], utc=True)\n",
    "\n",
    "hist2"
   ]
  },
  {
   "cell_type": "markdown",
   "metadata": {},
   "source": [
    "# Processing return Hist data"
   ]
  },
  {
   "cell_type": "code",
   "execution_count": 153,
   "metadata": {},
   "outputs": [],
   "source": [
    "ticker_name = '1COV.DE'\n",
    "\n",
    "ticker = yf.Ticker(ticker_name)"
   ]
  },
  {
   "cell_type": "code",
   "execution_count": 157,
   "metadata": {},
   "outputs": [],
   "source": [
    "hist2 = ticker.history(\n",
    "    interval = '1d',\n",
    "    start= '2024-05-08',\n",
    "    end = '2024-06-20',\n",
    "    repair=True)\n",
    "hist2.reset_index(inplace=True)\n",
    "\n",
    "hist2['Date']   = pd.to_datetime(hist2['Date'], utc=True)\n",
    "\n",
    "hist2.to_csv('data/yahoo/tickerdaily/%s.csv'%(ticker_name))"
   ]
  },
  {
   "cell_type": "code",
   "execution_count": 145,
   "metadata": {},
   "outputs": [
    {
     "data": {
      "text/html": [
       "<div>\n",
       "<style scoped>\n",
       "    .dataframe tbody tr th:only-of-type {\n",
       "        vertical-align: middle;\n",
       "    }\n",
       "\n",
       "    .dataframe tbody tr th {\n",
       "        vertical-align: top;\n",
       "    }\n",
       "\n",
       "    .dataframe thead th {\n",
       "        text-align: right;\n",
       "    }\n",
       "</style>\n",
       "<table border=\"1\" class=\"dataframe\">\n",
       "  <thead>\n",
       "    <tr style=\"text-align: right;\">\n",
       "      <th></th>\n",
       "      <th>Date</th>\n",
       "      <th>Open</th>\n",
       "      <th>High</th>\n",
       "      <th>Low</th>\n",
       "      <th>Close</th>\n",
       "      <th>Volume</th>\n",
       "      <th>Dividends</th>\n",
       "      <th>Stock Splits</th>\n",
       "      <th>Repaired?</th>\n",
       "    </tr>\n",
       "  </thead>\n",
       "  <tbody>\n",
       "    <tr>\n",
       "      <th>0</th>\n",
       "      <td>2024-07-08 00:00:00+02:00</td>\n",
       "      <td>432.600006</td>\n",
       "      <td>433.950012</td>\n",
       "      <td>428.700012</td>\n",
       "      <td>430.250000</td>\n",
       "      <td>15313</td>\n",
       "      <td>0.0</td>\n",
       "      <td>0.0</td>\n",
       "      <td>False</td>\n",
       "    </tr>\n",
       "    <tr>\n",
       "      <th>1</th>\n",
       "      <td>2024-07-09 00:00:00+02:00</td>\n",
       "      <td>431.450012</td>\n",
       "      <td>432.450012</td>\n",
       "      <td>427.750000</td>\n",
       "      <td>429.100006</td>\n",
       "      <td>12949</td>\n",
       "      <td>0.0</td>\n",
       "      <td>0.0</td>\n",
       "      <td>False</td>\n",
       "    </tr>\n",
       "    <tr>\n",
       "      <th>2</th>\n",
       "      <td>2024-07-10 00:00:00+02:00</td>\n",
       "      <td>426.399994</td>\n",
       "      <td>427.549988</td>\n",
       "      <td>426.350006</td>\n",
       "      <td>426.649994</td>\n",
       "      <td>3864</td>\n",
       "      <td>0.0</td>\n",
       "      <td>0.0</td>\n",
       "      <td>False</td>\n",
       "    </tr>\n",
       "  </tbody>\n",
       "</table>\n",
       "</div>"
      ],
      "text/plain": [
       "                       Date        Open        High         Low       Close  \\\n",
       "0 2024-07-08 00:00:00+02:00  432.600006  433.950012  428.700012  430.250000   \n",
       "1 2024-07-09 00:00:00+02:00  431.450012  432.450012  427.750000  429.100006   \n",
       "2 2024-07-10 00:00:00+02:00  426.399994  427.549988  426.350006  426.649994   \n",
       "\n",
       "   Volume  Dividends  Stock Splits  Repaired?  \n",
       "0   15313        0.0           0.0      False  \n",
       "1   12949        0.0           0.0      False  \n",
       "2    3864        0.0           0.0      False  "
      ]
     },
     "execution_count": 145,
     "metadata": {},
     "output_type": "execute_result"
    }
   ],
   "source": [
    "hist2 = ticker.history(\n",
    "    interval = '1d',\n",
    "    start= '2024-07-08',\n",
    "    # end = '2024-06-20',\n",
    "    repair=True)\n",
    "hist2.reset_index(inplace=True)\n",
    "\n",
    "hist2"
   ]
  },
  {
   "cell_type": "code",
   "execution_count": 140,
   "metadata": {},
   "outputs": [
    {
     "data": {
      "text/plain": [
       "datetime.date(2024, 7, 10)"
      ]
     },
     "execution_count": 140,
     "metadata": {},
     "output_type": "execute_result"
    }
   ],
   "source": [
    "pd.Timestamp.today().date()"
   ]
  },
  {
   "cell_type": "code",
   "execution_count": 134,
   "metadata": {},
   "outputs": [
    {
     "data": {
      "text/html": [
       "<div>\n",
       "<style scoped>\n",
       "    .dataframe tbody tr th:only-of-type {\n",
       "        vertical-align: middle;\n",
       "    }\n",
       "\n",
       "    .dataframe tbody tr th {\n",
       "        vertical-align: top;\n",
       "    }\n",
       "\n",
       "    .dataframe thead th {\n",
       "        text-align: right;\n",
       "    }\n",
       "</style>\n",
       "<table border=\"1\" class=\"dataframe\">\n",
       "  <thead>\n",
       "    <tr style=\"text-align: right;\">\n",
       "      <th></th>\n",
       "      <th>Open</th>\n",
       "      <th>High</th>\n",
       "      <th>Low</th>\n",
       "      <th>Close</th>\n",
       "      <th>Volume</th>\n",
       "      <th>Dividends</th>\n",
       "      <th>Stock Splits</th>\n",
       "      <th>Repaired?</th>\n",
       "    </tr>\n",
       "    <tr>\n",
       "      <th>Date</th>\n",
       "      <th></th>\n",
       "      <th></th>\n",
       "      <th></th>\n",
       "      <th></th>\n",
       "      <th></th>\n",
       "      <th></th>\n",
       "      <th></th>\n",
       "      <th></th>\n",
       "    </tr>\n",
       "  </thead>\n",
       "  <tbody>\n",
       "    <tr>\n",
       "      <th>2024-06-10 00:00:00+02:00</th>\n",
       "      <td>393.600006</td>\n",
       "      <td>398.200012</td>\n",
       "      <td>393.299988</td>\n",
       "      <td>397.700012</td>\n",
       "      <td>13203</td>\n",
       "      <td>0.0</td>\n",
       "      <td>0.0</td>\n",
       "      <td>False</td>\n",
       "    </tr>\n",
       "    <tr>\n",
       "      <th>2024-06-11 00:00:00+02:00</th>\n",
       "      <td>397.350006</td>\n",
       "      <td>399.450012</td>\n",
       "      <td>396.450012</td>\n",
       "      <td>399.450012</td>\n",
       "      <td>11820</td>\n",
       "      <td>0.0</td>\n",
       "      <td>0.0</td>\n",
       "      <td>False</td>\n",
       "    </tr>\n",
       "    <tr>\n",
       "      <th>2024-06-12 00:00:00+02:00</th>\n",
       "      <td>403.100006</td>\n",
       "      <td>405.750000</td>\n",
       "      <td>399.950012</td>\n",
       "      <td>404.299988</td>\n",
       "      <td>16874</td>\n",
       "      <td>0.0</td>\n",
       "      <td>0.0</td>\n",
       "      <td>False</td>\n",
       "    </tr>\n",
       "    <tr>\n",
       "      <th>2024-06-13 00:00:00+02:00</th>\n",
       "      <td>409.049988</td>\n",
       "      <td>412.000000</td>\n",
       "      <td>405.549988</td>\n",
       "      <td>411.700012</td>\n",
       "      <td>26773</td>\n",
       "      <td>0.0</td>\n",
       "      <td>0.0</td>\n",
       "      <td>False</td>\n",
       "    </tr>\n",
       "    <tr>\n",
       "      <th>2024-06-14 00:00:00+02:00</th>\n",
       "      <td>411.399994</td>\n",
       "      <td>414.350006</td>\n",
       "      <td>409.000000</td>\n",
       "      <td>413.350006</td>\n",
       "      <td>23054</td>\n",
       "      <td>0.0</td>\n",
       "      <td>0.0</td>\n",
       "      <td>False</td>\n",
       "    </tr>\n",
       "    <tr>\n",
       "      <th>2024-06-17 00:00:00+02:00</th>\n",
       "      <td>414.700012</td>\n",
       "      <td>415.000000</td>\n",
       "      <td>412.000000</td>\n",
       "      <td>414.149994</td>\n",
       "      <td>19386</td>\n",
       "      <td>0.0</td>\n",
       "      <td>0.0</td>\n",
       "      <td>False</td>\n",
       "    </tr>\n",
       "    <tr>\n",
       "      <th>2024-06-18 00:00:00+02:00</th>\n",
       "      <td>417.899994</td>\n",
       "      <td>420.299988</td>\n",
       "      <td>414.450012</td>\n",
       "      <td>415.299988</td>\n",
       "      <td>23324</td>\n",
       "      <td>0.0</td>\n",
       "      <td>0.0</td>\n",
       "      <td>False</td>\n",
       "    </tr>\n",
       "    <tr>\n",
       "      <th>2024-06-19 00:00:00+02:00</th>\n",
       "      <td>416.399994</td>\n",
       "      <td>419.200012</td>\n",
       "      <td>416.350006</td>\n",
       "      <td>418.700012</td>\n",
       "      <td>15721</td>\n",
       "      <td>0.0</td>\n",
       "      <td>0.0</td>\n",
       "      <td>False</td>\n",
       "    </tr>\n",
       "  </tbody>\n",
       "</table>\n",
       "</div>"
      ],
      "text/plain": [
       "                                 Open        High         Low       Close  \\\n",
       "Date                                                                        \n",
       "2024-06-10 00:00:00+02:00  393.600006  398.200012  393.299988  397.700012   \n",
       "2024-06-11 00:00:00+02:00  397.350006  399.450012  396.450012  399.450012   \n",
       "2024-06-12 00:00:00+02:00  403.100006  405.750000  399.950012  404.299988   \n",
       "2024-06-13 00:00:00+02:00  409.049988  412.000000  405.549988  411.700012   \n",
       "2024-06-14 00:00:00+02:00  411.399994  414.350006  409.000000  413.350006   \n",
       "2024-06-17 00:00:00+02:00  414.700012  415.000000  412.000000  414.149994   \n",
       "2024-06-18 00:00:00+02:00  417.899994  420.299988  414.450012  415.299988   \n",
       "2024-06-19 00:00:00+02:00  416.399994  419.200012  416.350006  418.700012   \n",
       "\n",
       "                           Volume  Dividends  Stock Splits  Repaired?  \n",
       "Date                                                                   \n",
       "2024-06-10 00:00:00+02:00   13203        0.0           0.0      False  \n",
       "2024-06-11 00:00:00+02:00   11820        0.0           0.0      False  \n",
       "2024-06-12 00:00:00+02:00   16874        0.0           0.0      False  \n",
       "2024-06-13 00:00:00+02:00   26773        0.0           0.0      False  \n",
       "2024-06-14 00:00:00+02:00   23054        0.0           0.0      False  \n",
       "2024-06-17 00:00:00+02:00   19386        0.0           0.0      False  \n",
       "2024-06-18 00:00:00+02:00   23324        0.0           0.0      False  \n",
       "2024-06-19 00:00:00+02:00   15721        0.0           0.0      False  "
      ]
     },
     "execution_count": 134,
     "metadata": {},
     "output_type": "execute_result"
    }
   ],
   "source": [
    "hist = ticker.history(\n",
    "    interval = '1d',\n",
    "    start= '2024-06-10',\n",
    "    end = '2024-06-20',\n",
    "    repair=True)\n",
    "hist.reset_index(inplace=True)\n",
    "hist['Date'] = pd.to_datetime(hist['Date'], utc=True)\n",
    "hist"
   ]
  },
  {
   "cell_type": "code",
   "execution_count": 130,
   "metadata": {},
   "outputs": [],
   "source": [
    "ticker_name = 'MSF.DE'\n",
    "ticker = yf.Ticker(ticker_name)\n",
    "hist = ticker.history(\n",
    "    interval = '1d',\n",
    "    start= '2024-06-10',\n",
    "    end = '2024-06-15',\n",
    "    repair=True)\n",
    "hist.reset_index(inplace=True)\n",
    "hist['Date'] = pd.to_datetime(hist['Date'], utc=True)\n",
    "\n",
    "\n",
    "hist2 = ticker.history(\n",
    "    interval = '1d',\n",
    "    start= '2024-06-15',\n",
    "    # end = '2024-06-20',\n",
    "    repair=True)\n",
    "hist2.reset_index(inplace=True)\n",
    "hist2['Date'] = pd.to_datetime(hist2['Date'], utc=True)\n",
    "\n",
    "\n",
    "\n"
   ]
  },
  {
   "cell_type": "code",
   "execution_count": 132,
   "metadata": {},
   "outputs": [
    {
     "data": {
      "text/html": [
       "<div>\n",
       "<style scoped>\n",
       "    .dataframe tbody tr th:only-of-type {\n",
       "        vertical-align: middle;\n",
       "    }\n",
       "\n",
       "    .dataframe tbody tr th {\n",
       "        vertical-align: top;\n",
       "    }\n",
       "\n",
       "    .dataframe thead th {\n",
       "        text-align: right;\n",
       "    }\n",
       "</style>\n",
       "<table border=\"1\" class=\"dataframe\">\n",
       "  <thead>\n",
       "    <tr style=\"text-align: right;\">\n",
       "      <th></th>\n",
       "      <th>Date</th>\n",
       "      <th>Open</th>\n",
       "      <th>High</th>\n",
       "      <th>Low</th>\n",
       "      <th>Close</th>\n",
       "      <th>Volume</th>\n",
       "      <th>Dividends</th>\n",
       "      <th>Stock Splits</th>\n",
       "      <th>Repaired?</th>\n",
       "    </tr>\n",
       "  </thead>\n",
       "  <tbody>\n",
       "    <tr>\n",
       "      <th>0</th>\n",
       "      <td>2024-06-16 22:00:00+00:00</td>\n",
       "      <td>414.700012</td>\n",
       "      <td>415.000000</td>\n",
       "      <td>412.000000</td>\n",
       "      <td>414.149994</td>\n",
       "      <td>19386</td>\n",
       "      <td>0.0</td>\n",
       "      <td>0.0</td>\n",
       "      <td>False</td>\n",
       "    </tr>\n",
       "    <tr>\n",
       "      <th>1</th>\n",
       "      <td>2024-06-17 22:00:00+00:00</td>\n",
       "      <td>417.899994</td>\n",
       "      <td>420.299988</td>\n",
       "      <td>414.450012</td>\n",
       "      <td>415.299988</td>\n",
       "      <td>23324</td>\n",
       "      <td>0.0</td>\n",
       "      <td>0.0</td>\n",
       "      <td>False</td>\n",
       "    </tr>\n",
       "    <tr>\n",
       "      <th>2</th>\n",
       "      <td>2024-06-18 22:00:00+00:00</td>\n",
       "      <td>416.399994</td>\n",
       "      <td>419.200012</td>\n",
       "      <td>416.350006</td>\n",
       "      <td>418.700012</td>\n",
       "      <td>15721</td>\n",
       "      <td>0.0</td>\n",
       "      <td>0.0</td>\n",
       "      <td>False</td>\n",
       "    </tr>\n",
       "    <tr>\n",
       "      <th>3</th>\n",
       "      <td>2024-06-19 22:00:00+00:00</td>\n",
       "      <td>416.799988</td>\n",
       "      <td>419.000000</td>\n",
       "      <td>411.850006</td>\n",
       "      <td>415.149994</td>\n",
       "      <td>35123</td>\n",
       "      <td>0.0</td>\n",
       "      <td>0.0</td>\n",
       "      <td>False</td>\n",
       "    </tr>\n",
       "    <tr>\n",
       "      <th>4</th>\n",
       "      <td>2024-06-20 22:00:00+00:00</td>\n",
       "      <td>416.049988</td>\n",
       "      <td>420.600006</td>\n",
       "      <td>415.200012</td>\n",
       "      <td>419.750000</td>\n",
       "      <td>21982</td>\n",
       "      <td>0.0</td>\n",
       "      <td>0.0</td>\n",
       "      <td>False</td>\n",
       "    </tr>\n",
       "    <tr>\n",
       "      <th>5</th>\n",
       "      <td>2024-06-23 22:00:00+00:00</td>\n",
       "      <td>420.799988</td>\n",
       "      <td>421.000000</td>\n",
       "      <td>416.100006</td>\n",
       "      <td>419.450012</td>\n",
       "      <td>17177</td>\n",
       "      <td>0.0</td>\n",
       "      <td>0.0</td>\n",
       "      <td>False</td>\n",
       "    </tr>\n",
       "    <tr>\n",
       "      <th>6</th>\n",
       "      <td>2024-06-24 22:00:00+00:00</td>\n",
       "      <td>417.100006</td>\n",
       "      <td>420.600006</td>\n",
       "      <td>415.850006</td>\n",
       "      <td>419.700012</td>\n",
       "      <td>20836</td>\n",
       "      <td>0.0</td>\n",
       "      <td>0.0</td>\n",
       "      <td>False</td>\n",
       "    </tr>\n",
       "    <tr>\n",
       "      <th>7</th>\n",
       "      <td>2024-06-25 22:00:00+00:00</td>\n",
       "      <td>422.200012</td>\n",
       "      <td>424.549988</td>\n",
       "      <td>419.950012</td>\n",
       "      <td>423.899994</td>\n",
       "      <td>12949</td>\n",
       "      <td>0.0</td>\n",
       "      <td>0.0</td>\n",
       "      <td>False</td>\n",
       "    </tr>\n",
       "    <tr>\n",
       "      <th>8</th>\n",
       "      <td>2024-06-26 22:00:00+00:00</td>\n",
       "      <td>422.149994</td>\n",
       "      <td>426.149994</td>\n",
       "      <td>421.700012</td>\n",
       "      <td>424.000000</td>\n",
       "      <td>21851</td>\n",
       "      <td>0.0</td>\n",
       "      <td>0.0</td>\n",
       "      <td>False</td>\n",
       "    </tr>\n",
       "    <tr>\n",
       "      <th>9</th>\n",
       "      <td>2024-06-27 22:00:00+00:00</td>\n",
       "      <td>425.100006</td>\n",
       "      <td>425.850006</td>\n",
       "      <td>422.250000</td>\n",
       "      <td>423.399994</td>\n",
       "      <td>13079</td>\n",
       "      <td>0.0</td>\n",
       "      <td>0.0</td>\n",
       "      <td>False</td>\n",
       "    </tr>\n",
       "    <tr>\n",
       "      <th>10</th>\n",
       "      <td>2024-06-30 22:00:00+00:00</td>\n",
       "      <td>418.000000</td>\n",
       "      <td>421.700012</td>\n",
       "      <td>414.549988</td>\n",
       "      <td>421.299988</td>\n",
       "      <td>25412</td>\n",
       "      <td>0.0</td>\n",
       "      <td>0.0</td>\n",
       "      <td>False</td>\n",
       "    </tr>\n",
       "    <tr>\n",
       "      <th>11</th>\n",
       "      <td>2024-07-01 22:00:00+00:00</td>\n",
       "      <td>424.799988</td>\n",
       "      <td>426.399994</td>\n",
       "      <td>422.250000</td>\n",
       "      <td>425.600006</td>\n",
       "      <td>17241</td>\n",
       "      <td>0.0</td>\n",
       "      <td>0.0</td>\n",
       "      <td>False</td>\n",
       "    </tr>\n",
       "    <tr>\n",
       "      <th>12</th>\n",
       "      <td>2024-07-02 22:00:00+00:00</td>\n",
       "      <td>427.600006</td>\n",
       "      <td>427.600006</td>\n",
       "      <td>423.750000</td>\n",
       "      <td>425.799988</td>\n",
       "      <td>12791</td>\n",
       "      <td>0.0</td>\n",
       "      <td>0.0</td>\n",
       "      <td>False</td>\n",
       "    </tr>\n",
       "    <tr>\n",
       "      <th>13</th>\n",
       "      <td>2024-07-03 22:00:00+00:00</td>\n",
       "      <td>427.799988</td>\n",
       "      <td>427.799988</td>\n",
       "      <td>424.950012</td>\n",
       "      <td>426.899994</td>\n",
       "      <td>8759</td>\n",
       "      <td>0.0</td>\n",
       "      <td>0.0</td>\n",
       "      <td>False</td>\n",
       "    </tr>\n",
       "    <tr>\n",
       "      <th>14</th>\n",
       "      <td>2024-07-04 22:00:00+00:00</td>\n",
       "      <td>427.000000</td>\n",
       "      <td>431.750000</td>\n",
       "      <td>424.000000</td>\n",
       "      <td>430.149994</td>\n",
       "      <td>19819</td>\n",
       "      <td>0.0</td>\n",
       "      <td>0.0</td>\n",
       "      <td>False</td>\n",
       "    </tr>\n",
       "    <tr>\n",
       "      <th>15</th>\n",
       "      <td>2024-07-07 22:00:00+00:00</td>\n",
       "      <td>432.600006</td>\n",
       "      <td>433.950012</td>\n",
       "      <td>428.700012</td>\n",
       "      <td>430.250000</td>\n",
       "      <td>15313</td>\n",
       "      <td>0.0</td>\n",
       "      <td>0.0</td>\n",
       "      <td>False</td>\n",
       "    </tr>\n",
       "    <tr>\n",
       "      <th>16</th>\n",
       "      <td>2024-07-08 22:00:00+00:00</td>\n",
       "      <td>431.450012</td>\n",
       "      <td>432.450012</td>\n",
       "      <td>427.750000</td>\n",
       "      <td>429.100006</td>\n",
       "      <td>12949</td>\n",
       "      <td>0.0</td>\n",
       "      <td>0.0</td>\n",
       "      <td>False</td>\n",
       "    </tr>\n",
       "    <tr>\n",
       "      <th>17</th>\n",
       "      <td>2024-07-09 22:00:00+00:00</td>\n",
       "      <td>426.399994</td>\n",
       "      <td>427.549988</td>\n",
       "      <td>426.350006</td>\n",
       "      <td>426.950012</td>\n",
       "      <td>3702</td>\n",
       "      <td>0.0</td>\n",
       "      <td>0.0</td>\n",
       "      <td>False</td>\n",
       "    </tr>\n",
       "  </tbody>\n",
       "</table>\n",
       "</div>"
      ],
      "text/plain": [
       "                        Date        Open        High         Low       Close  \\\n",
       "0  2024-06-16 22:00:00+00:00  414.700012  415.000000  412.000000  414.149994   \n",
       "1  2024-06-17 22:00:00+00:00  417.899994  420.299988  414.450012  415.299988   \n",
       "2  2024-06-18 22:00:00+00:00  416.399994  419.200012  416.350006  418.700012   \n",
       "3  2024-06-19 22:00:00+00:00  416.799988  419.000000  411.850006  415.149994   \n",
       "4  2024-06-20 22:00:00+00:00  416.049988  420.600006  415.200012  419.750000   \n",
       "5  2024-06-23 22:00:00+00:00  420.799988  421.000000  416.100006  419.450012   \n",
       "6  2024-06-24 22:00:00+00:00  417.100006  420.600006  415.850006  419.700012   \n",
       "7  2024-06-25 22:00:00+00:00  422.200012  424.549988  419.950012  423.899994   \n",
       "8  2024-06-26 22:00:00+00:00  422.149994  426.149994  421.700012  424.000000   \n",
       "9  2024-06-27 22:00:00+00:00  425.100006  425.850006  422.250000  423.399994   \n",
       "10 2024-06-30 22:00:00+00:00  418.000000  421.700012  414.549988  421.299988   \n",
       "11 2024-07-01 22:00:00+00:00  424.799988  426.399994  422.250000  425.600006   \n",
       "12 2024-07-02 22:00:00+00:00  427.600006  427.600006  423.750000  425.799988   \n",
       "13 2024-07-03 22:00:00+00:00  427.799988  427.799988  424.950012  426.899994   \n",
       "14 2024-07-04 22:00:00+00:00  427.000000  431.750000  424.000000  430.149994   \n",
       "15 2024-07-07 22:00:00+00:00  432.600006  433.950012  428.700012  430.250000   \n",
       "16 2024-07-08 22:00:00+00:00  431.450012  432.450012  427.750000  429.100006   \n",
       "17 2024-07-09 22:00:00+00:00  426.399994  427.549988  426.350006  426.950012   \n",
       "\n",
       "    Volume  Dividends  Stock Splits  Repaired?  \n",
       "0    19386        0.0           0.0      False  \n",
       "1    23324        0.0           0.0      False  \n",
       "2    15721        0.0           0.0      False  \n",
       "3    35123        0.0           0.0      False  \n",
       "4    21982        0.0           0.0      False  \n",
       "5    17177        0.0           0.0      False  \n",
       "6    20836        0.0           0.0      False  \n",
       "7    12949        0.0           0.0      False  \n",
       "8    21851        0.0           0.0      False  \n",
       "9    13079        0.0           0.0      False  \n",
       "10   25412        0.0           0.0      False  \n",
       "11   17241        0.0           0.0      False  \n",
       "12   12791        0.0           0.0      False  \n",
       "13    8759        0.0           0.0      False  \n",
       "14   19819        0.0           0.0      False  \n",
       "15   15313        0.0           0.0      False  \n",
       "16   12949        0.0           0.0      False  \n",
       "17    3702        0.0           0.0      False  "
      ]
     },
     "execution_count": 132,
     "metadata": {},
     "output_type": "execute_result"
    }
   ],
   "source": [
    "hist2"
   ]
  },
  {
   "cell_type": "code",
   "execution_count": 117,
   "metadata": {},
   "outputs": [
    {
     "data": {
      "text/plain": [
       "datetime.date(2023, 6, 13)"
      ]
     },
     "execution_count": 117,
     "metadata": {},
     "output_type": "execute_result"
    }
   ],
   "source": [
    "hist['Date'].min().date()"
   ]
  },
  {
   "cell_type": "code",
   "execution_count": 114,
   "metadata": {},
   "outputs": [
    {
     "data": {
      "text/plain": [
       "datetime.date(2023, 6, 12)"
      ]
     },
     "execution_count": 114,
     "metadata": {},
     "output_type": "execute_result"
    }
   ],
   "source": [
    "pd.to_datetime(hist['Date'], utc=True).min().date()"
   ]
  },
  {
   "cell_type": "code",
   "execution_count": 99,
   "metadata": {},
   "outputs": [
    {
     "data": {
      "text/html": [
       "<div>\n",
       "<style scoped>\n",
       "    .dataframe tbody tr th:only-of-type {\n",
       "        vertical-align: middle;\n",
       "    }\n",
       "\n",
       "    .dataframe tbody tr th {\n",
       "        vertical-align: top;\n",
       "    }\n",
       "\n",
       "    .dataframe thead th {\n",
       "        text-align: right;\n",
       "    }\n",
       "</style>\n",
       "<table border=\"1\" class=\"dataframe\">\n",
       "  <thead>\n",
       "    <tr style=\"text-align: right;\">\n",
       "      <th></th>\n",
       "      <th>Date</th>\n",
       "      <th>Open</th>\n",
       "      <th>High</th>\n",
       "      <th>Low</th>\n",
       "      <th>Close</th>\n",
       "      <th>Volume</th>\n",
       "      <th>Dividends</th>\n",
       "      <th>Stock Splits</th>\n",
       "      <th>Repaired?</th>\n",
       "    </tr>\n",
       "  </thead>\n",
       "  <tbody>\n",
       "    <tr>\n",
       "      <th>3931</th>\n",
       "      <td>2023-06-11 22:00:00+00:00</td>\n",
       "      <td>36.473219</td>\n",
       "      <td>36.488214</td>\n",
       "      <td>35.898404</td>\n",
       "      <td>36.208305</td>\n",
       "      <td>178390</td>\n",
       "      <td>0.0</td>\n",
       "      <td>0.0</td>\n",
       "      <td>False</td>\n",
       "    </tr>\n",
       "    <tr>\n",
       "      <th>3932</th>\n",
       "      <td>2023-06-12 22:00:00+00:00</td>\n",
       "      <td>36.803108</td>\n",
       "      <td>37.832777</td>\n",
       "      <td>36.708141</td>\n",
       "      <td>37.662830</td>\n",
       "      <td>376930</td>\n",
       "      <td>0.0</td>\n",
       "      <td>0.0</td>\n",
       "      <td>False</td>\n",
       "    </tr>\n",
       "    <tr>\n",
       "      <th>3933</th>\n",
       "      <td>2023-06-12 22:00:00+00:00</td>\n",
       "      <td>68.640107</td>\n",
       "      <td>69.001907</td>\n",
       "      <td>67.257844</td>\n",
       "      <td>69.001907</td>\n",
       "      <td>2562255</td>\n",
       "      <td>0.0</td>\n",
       "      <td>0.0</td>\n",
       "      <td>False</td>\n",
       "    </tr>\n",
       "    <tr>\n",
       "      <th>3934</th>\n",
       "      <td>2023-06-13 22:00:00+00:00</td>\n",
       "      <td>69.103954</td>\n",
       "      <td>70.365619</td>\n",
       "      <td>69.029744</td>\n",
       "      <td>69.901772</td>\n",
       "      <td>3412044</td>\n",
       "      <td>0.0</td>\n",
       "      <td>0.0</td>\n",
       "      <td>False</td>\n",
       "    </tr>\n",
       "    <tr>\n",
       "      <th>3935</th>\n",
       "      <td>2023-06-14 22:00:00+00:00</td>\n",
       "      <td>69.725521</td>\n",
       "      <td>69.781181</td>\n",
       "      <td>69.159627</td>\n",
       "      <td>69.744072</td>\n",
       "      <td>2180019</td>\n",
       "      <td>0.0</td>\n",
       "      <td>0.0</td>\n",
       "      <td>False</td>\n",
       "    </tr>\n",
       "    <tr>\n",
       "      <th>...</th>\n",
       "      <td>...</td>\n",
       "      <td>...</td>\n",
       "      <td>...</td>\n",
       "      <td>...</td>\n",
       "      <td>...</td>\n",
       "      <td>...</td>\n",
       "      <td>...</td>\n",
       "      <td>...</td>\n",
       "      <td>...</td>\n",
       "    </tr>\n",
       "    <tr>\n",
       "      <th>4204</th>\n",
       "      <td>2024-07-03 22:00:00+00:00</td>\n",
       "      <td>65.580002</td>\n",
       "      <td>66.279999</td>\n",
       "      <td>65.519997</td>\n",
       "      <td>65.940002</td>\n",
       "      <td>1860262</td>\n",
       "      <td>0.0</td>\n",
       "      <td>0.0</td>\n",
       "      <td>False</td>\n",
       "    </tr>\n",
       "    <tr>\n",
       "      <th>4205</th>\n",
       "      <td>2024-07-04 22:00:00+00:00</td>\n",
       "      <td>65.849998</td>\n",
       "      <td>66.250000</td>\n",
       "      <td>65.180000</td>\n",
       "      <td>65.470001</td>\n",
       "      <td>1852800</td>\n",
       "      <td>0.0</td>\n",
       "      <td>0.0</td>\n",
       "      <td>False</td>\n",
       "    </tr>\n",
       "    <tr>\n",
       "      <th>4206</th>\n",
       "      <td>2024-07-07 22:00:00+00:00</td>\n",
       "      <td>65.290001</td>\n",
       "      <td>65.930000</td>\n",
       "      <td>65.169998</td>\n",
       "      <td>65.389999</td>\n",
       "      <td>1568407</td>\n",
       "      <td>0.0</td>\n",
       "      <td>0.0</td>\n",
       "      <td>False</td>\n",
       "    </tr>\n",
       "    <tr>\n",
       "      <th>4207</th>\n",
       "      <td>2024-07-08 22:00:00+00:00</td>\n",
       "      <td>63.840000</td>\n",
       "      <td>64.220001</td>\n",
       "      <td>62.849998</td>\n",
       "      <td>63.150002</td>\n",
       "      <td>5259368</td>\n",
       "      <td>0.0</td>\n",
       "      <td>0.0</td>\n",
       "      <td>False</td>\n",
       "    </tr>\n",
       "    <tr>\n",
       "      <th>4208</th>\n",
       "      <td>2024-07-09 22:00:00+00:00</td>\n",
       "      <td>63.230000</td>\n",
       "      <td>63.639999</td>\n",
       "      <td>62.689999</td>\n",
       "      <td>63.220001</td>\n",
       "      <td>499349</td>\n",
       "      <td>0.0</td>\n",
       "      <td>0.0</td>\n",
       "      <td>False</td>\n",
       "    </tr>\n",
       "  </tbody>\n",
       "</table>\n",
       "<p>278 rows × 9 columns</p>\n",
       "</div>"
      ],
      "text/plain": [
       "                          Date       Open       High        Low      Close  \\\n",
       "3931 2023-06-11 22:00:00+00:00  36.473219  36.488214  35.898404  36.208305   \n",
       "3932 2023-06-12 22:00:00+00:00  36.803108  37.832777  36.708141  37.662830   \n",
       "3933 2023-06-12 22:00:00+00:00  68.640107  69.001907  67.257844  69.001907   \n",
       "3934 2023-06-13 22:00:00+00:00  69.103954  70.365619  69.029744  69.901772   \n",
       "3935 2023-06-14 22:00:00+00:00  69.725521  69.781181  69.159627  69.744072   \n",
       "...                        ...        ...        ...        ...        ...   \n",
       "4204 2024-07-03 22:00:00+00:00  65.580002  66.279999  65.519997  65.940002   \n",
       "4205 2024-07-04 22:00:00+00:00  65.849998  66.250000  65.180000  65.470001   \n",
       "4206 2024-07-07 22:00:00+00:00  65.290001  65.930000  65.169998  65.389999   \n",
       "4207 2024-07-08 22:00:00+00:00  63.840000  64.220001  62.849998  63.150002   \n",
       "4208 2024-07-09 22:00:00+00:00  63.230000  63.639999  62.689999  63.220001   \n",
       "\n",
       "       Volume  Dividends  Stock Splits  Repaired?  \n",
       "3931   178390        0.0           0.0      False  \n",
       "3932   376930        0.0           0.0      False  \n",
       "3933  2562255        0.0           0.0      False  \n",
       "3934  3412044        0.0           0.0      False  \n",
       "3935  2180019        0.0           0.0      False  \n",
       "...       ...        ...           ...        ...  \n",
       "4204  1860262        0.0           0.0      False  \n",
       "4205  1852800        0.0           0.0      False  \n",
       "4206  1568407        0.0           0.0      False  \n",
       "4207  5259368        0.0           0.0      False  \n",
       "4208   499349        0.0           0.0      False  \n",
       "\n",
       "[278 rows x 9 columns]"
      ]
     },
     "execution_count": 99,
     "metadata": {},
     "output_type": "execute_result"
    }
   ],
   "source": [
    "df2[df2['Date'] > pd.to_datetime('2023-06-11', utc=)]"
   ]
  },
  {
   "cell_type": "code",
   "execution_count": 76,
   "metadata": {},
   "outputs": [
    {
     "data": {
      "text/plain": [
       "0     2023-06-13 22:00:00+00:00\n",
       "1     2023-06-14 22:00:00+00:00\n",
       "2     2023-06-15 22:00:00+00:00\n",
       "3     2023-06-18 22:00:00+00:00\n",
       "4     2023-06-19 22:00:00+00:00\n",
       "                 ...           \n",
       "270   2024-07-03 22:00:00+00:00\n",
       "271   2024-07-04 22:00:00+00:00\n",
       "272   2024-07-07 22:00:00+00:00\n",
       "273   2024-07-08 22:00:00+00:00\n",
       "274   2024-07-09 22:00:00+00:00\n",
       "Name: Date, Length: 275, dtype: datetime64[ns, UTC]"
      ]
     },
     "execution_count": 76,
     "metadata": {},
     "output_type": "execute_result"
    }
   ],
   "source": [
    "pd.to_datetime(hist['Date'], utc=True)\n"
   ]
  },
  {
   "cell_type": "code",
   "execution_count": 81,
   "metadata": {},
   "outputs": [
    {
     "name": "stderr",
     "output_type": "stream",
     "text": [
      "C:\\Users\\yyhho\\AppData\\Local\\Temp\\ipykernel_17392\\2387180315.py:2: FutureWarning: In a future version of pandas, parsing datetimes with mixed time zones will raise an error unless `utc=True`. Please specify `utc=True` to opt in to the new behaviour and silence this warning. To create a `Series` with mixed offsets and `object` dtype, please use `apply` and `datetime.datetime.strptime`\n",
      "  df['Date'] = pd.to_datetime(df['Date'])\n"
     ]
    },
    {
     "data": {
      "text/plain": [
       "Date             object\n",
       "Open            float64\n",
       "High            float64\n",
       "Low             float64\n",
       "Close           float64\n",
       "Volume            int64\n",
       "Dividends       float64\n",
       "Stock Splits    float64\n",
       "Repaired?          bool\n",
       "dtype: object"
      ]
     },
     "execution_count": 81,
     "metadata": {},
     "output_type": "execute_result"
    }
   ],
   "source": [
    "df = pd.read_csv(csv_pth)\n",
    "df['Date'] = pd.to_datetime(df['Date'])\n",
    "df.dtypes"
   ]
  },
  {
   "cell_type": "code",
   "execution_count": 83,
   "metadata": {},
   "outputs": [
    {
     "data": {
      "text/plain": [
       "0      2007-12-12 23:00:00+00:00\n",
       "1      2007-12-13 23:00:00+00:00\n",
       "2      2007-12-16 23:00:00+00:00\n",
       "3      2007-12-17 23:00:00+00:00\n",
       "4      2007-12-18 23:00:00+00:00\n",
       "                  ...           \n",
       "3928   2023-06-06 22:00:00+00:00\n",
       "3929   2023-06-07 22:00:00+00:00\n",
       "3930   2023-06-08 22:00:00+00:00\n",
       "3931   2023-06-11 22:00:00+00:00\n",
       "3932   2023-06-12 22:00:00+00:00\n",
       "Name: Date, Length: 3933, dtype: datetime64[ns, UTC]"
      ]
     },
     "execution_count": 83,
     "metadata": {},
     "output_type": "execute_result"
    }
   ],
   "source": [
    "pd.to_datetime(df['Date'], utc=True)"
   ]
  },
  {
   "cell_type": "code",
   "execution_count": 40,
   "metadata": {},
   "outputs": [
    {
     "data": {
      "text/plain": [
       "65000"
      ]
     },
     "execution_count": 40,
     "metadata": {},
     "output_type": "execute_result"
    }
   ],
   "source": [
    "5000 * 13"
   ]
  },
  {
   "cell_type": "code",
   "execution_count": 42,
   "metadata": {},
   "outputs": [],
   "source": [
    "df2 = pd.concat([df, hist])"
   ]
  },
  {
   "cell_type": "code",
   "execution_count": 52,
   "metadata": {},
   "outputs": [
    {
     "ename": "TypeError",
     "evalue": "'>' not supported between instances of 'str' and 'Timestamp'",
     "output_type": "error",
     "traceback": [
      "\u001b[1;31m---------------------------------------------------------------------------\u001b[0m",
      "\u001b[1;31mTypeError\u001b[0m                                 Traceback (most recent call last)",
      "Cell \u001b[1;32mIn[52], line 1\u001b[0m\n\u001b[1;32m----> 1\u001b[0m df[df\u001b[38;5;241m.\u001b[39mindex \u001b[38;5;241m>\u001b[39m pd\u001b[38;5;241m.\u001b[39mto_datetime(\u001b[38;5;124m'\u001b[39m\u001b[38;5;124m2023-06-09\u001b[39m\u001b[38;5;124m'\u001b[39m)]\n",
      "File \u001b[1;32mc:\\Users\\yyhho\\anaconda3\\Lib\\site-packages\\pandas\\core\\ops\\common.py:76\u001b[0m, in \u001b[0;36m_unpack_zerodim_and_defer.<locals>.new_method\u001b[1;34m(self, other)\u001b[0m\n\u001b[0;32m     72\u001b[0m             \u001b[38;5;28;01mreturn\u001b[39;00m \u001b[38;5;28mNotImplemented\u001b[39m\n\u001b[0;32m     74\u001b[0m other \u001b[38;5;241m=\u001b[39m item_from_zerodim(other)\n\u001b[1;32m---> 76\u001b[0m \u001b[38;5;28;01mreturn\u001b[39;00m method(\u001b[38;5;28mself\u001b[39m, other)\n",
      "File \u001b[1;32mc:\\Users\\yyhho\\anaconda3\\Lib\\site-packages\\pandas\\core\\arraylike.py:56\u001b[0m, in \u001b[0;36mOpsMixin.__gt__\u001b[1;34m(self, other)\u001b[0m\n\u001b[0;32m     54\u001b[0m \u001b[38;5;129m@unpack_zerodim_and_defer\u001b[39m(\u001b[38;5;124m\"\u001b[39m\u001b[38;5;124m__gt__\u001b[39m\u001b[38;5;124m\"\u001b[39m)\n\u001b[0;32m     55\u001b[0m \u001b[38;5;28;01mdef\u001b[39;00m \u001b[38;5;21m__gt__\u001b[39m(\u001b[38;5;28mself\u001b[39m, other):\n\u001b[1;32m---> 56\u001b[0m     \u001b[38;5;28;01mreturn\u001b[39;00m \u001b[38;5;28mself\u001b[39m\u001b[38;5;241m.\u001b[39m_cmp_method(other, operator\u001b[38;5;241m.\u001b[39mgt)\n",
      "File \u001b[1;32mc:\\Users\\yyhho\\anaconda3\\Lib\\site-packages\\pandas\\core\\indexes\\base.py:7129\u001b[0m, in \u001b[0;36mIndex._cmp_method\u001b[1;34m(self, other, op)\u001b[0m\n\u001b[0;32m   7125\u001b[0m     result \u001b[38;5;241m=\u001b[39m op(\u001b[38;5;28mself\u001b[39m\u001b[38;5;241m.\u001b[39m_values, other)\n\u001b[0;32m   7127\u001b[0m \u001b[38;5;28;01melif\u001b[39;00m is_object_dtype(\u001b[38;5;28mself\u001b[39m\u001b[38;5;241m.\u001b[39mdtype) \u001b[38;5;129;01mand\u001b[39;00m \u001b[38;5;129;01mnot\u001b[39;00m \u001b[38;5;28misinstance\u001b[39m(\u001b[38;5;28mself\u001b[39m, ABCMultiIndex):\n\u001b[0;32m   7128\u001b[0m     \u001b[38;5;66;03m# don't pass MultiIndex\u001b[39;00m\n\u001b[1;32m-> 7129\u001b[0m     result \u001b[38;5;241m=\u001b[39m ops\u001b[38;5;241m.\u001b[39mcomp_method_OBJECT_ARRAY(op, \u001b[38;5;28mself\u001b[39m\u001b[38;5;241m.\u001b[39m_values, other)\n\u001b[0;32m   7131\u001b[0m \u001b[38;5;28;01melse\u001b[39;00m:\n\u001b[0;32m   7132\u001b[0m     result \u001b[38;5;241m=\u001b[39m ops\u001b[38;5;241m.\u001b[39mcomparison_op(\u001b[38;5;28mself\u001b[39m\u001b[38;5;241m.\u001b[39m_values, other, op)\n",
      "File \u001b[1;32mc:\\Users\\yyhho\\anaconda3\\Lib\\site-packages\\pandas\\core\\ops\\array_ops.py:131\u001b[0m, in \u001b[0;36mcomp_method_OBJECT_ARRAY\u001b[1;34m(op, x, y)\u001b[0m\n\u001b[0;32m    129\u001b[0m     result \u001b[38;5;241m=\u001b[39m libops\u001b[38;5;241m.\u001b[39mvec_compare(x\u001b[38;5;241m.\u001b[39mravel(), y\u001b[38;5;241m.\u001b[39mravel(), op)\n\u001b[0;32m    130\u001b[0m \u001b[38;5;28;01melse\u001b[39;00m:\n\u001b[1;32m--> 131\u001b[0m     result \u001b[38;5;241m=\u001b[39m libops\u001b[38;5;241m.\u001b[39mscalar_compare(x\u001b[38;5;241m.\u001b[39mravel(), y, op)\n\u001b[0;32m    132\u001b[0m \u001b[38;5;28;01mreturn\u001b[39;00m result\u001b[38;5;241m.\u001b[39mreshape(x\u001b[38;5;241m.\u001b[39mshape)\n",
      "File \u001b[1;32mops.pyx:107\u001b[0m, in \u001b[0;36mpandas._libs.ops.scalar_compare\u001b[1;34m()\u001b[0m\n",
      "\u001b[1;31mTypeError\u001b[0m: '>' not supported between instances of 'str' and 'Timestamp'"
     ]
    }
   ],
   "source": [
    "df[df.index > pd.to_datetime('2023-06-09')]\n"
   ]
  },
  {
   "cell_type": "code",
   "execution_count": 45,
   "metadata": {},
   "outputs": [
    {
     "ename": "TypeError",
     "evalue": "'>' not supported between instances of 'str' and 'Timestamp'",
     "output_type": "error",
     "traceback": [
      "\u001b[1;31m---------------------------------------------------------------------------\u001b[0m",
      "\u001b[1;31mTypeError\u001b[0m                                 Traceback (most recent call last)",
      "Cell \u001b[1;32mIn[45], line 1\u001b[0m\n\u001b[1;32m----> 1\u001b[0m df2[df2\u001b[38;5;241m.\u001b[39mindex \u001b[38;5;241m>\u001b[39m pd\u001b[38;5;241m.\u001b[39mto_datetime(\u001b[38;5;124m'\u001b[39m\u001b[38;5;124m2023-06-09\u001b[39m\u001b[38;5;124m'\u001b[39m)]\n",
      "File \u001b[1;32mc:\\Users\\yyhho\\anaconda3\\Lib\\site-packages\\pandas\\core\\ops\\common.py:76\u001b[0m, in \u001b[0;36m_unpack_zerodim_and_defer.<locals>.new_method\u001b[1;34m(self, other)\u001b[0m\n\u001b[0;32m     72\u001b[0m             \u001b[38;5;28;01mreturn\u001b[39;00m \u001b[38;5;28mNotImplemented\u001b[39m\n\u001b[0;32m     74\u001b[0m other \u001b[38;5;241m=\u001b[39m item_from_zerodim(other)\n\u001b[1;32m---> 76\u001b[0m \u001b[38;5;28;01mreturn\u001b[39;00m method(\u001b[38;5;28mself\u001b[39m, other)\n",
      "File \u001b[1;32mc:\\Users\\yyhho\\anaconda3\\Lib\\site-packages\\pandas\\core\\arraylike.py:56\u001b[0m, in \u001b[0;36mOpsMixin.__gt__\u001b[1;34m(self, other)\u001b[0m\n\u001b[0;32m     54\u001b[0m \u001b[38;5;129m@unpack_zerodim_and_defer\u001b[39m(\u001b[38;5;124m\"\u001b[39m\u001b[38;5;124m__gt__\u001b[39m\u001b[38;5;124m\"\u001b[39m)\n\u001b[0;32m     55\u001b[0m \u001b[38;5;28;01mdef\u001b[39;00m \u001b[38;5;21m__gt__\u001b[39m(\u001b[38;5;28mself\u001b[39m, other):\n\u001b[1;32m---> 56\u001b[0m     \u001b[38;5;28;01mreturn\u001b[39;00m \u001b[38;5;28mself\u001b[39m\u001b[38;5;241m.\u001b[39m_cmp_method(other, operator\u001b[38;5;241m.\u001b[39mgt)\n",
      "File \u001b[1;32mc:\\Users\\yyhho\\anaconda3\\Lib\\site-packages\\pandas\\core\\indexes\\base.py:7129\u001b[0m, in \u001b[0;36mIndex._cmp_method\u001b[1;34m(self, other, op)\u001b[0m\n\u001b[0;32m   7125\u001b[0m     result \u001b[38;5;241m=\u001b[39m op(\u001b[38;5;28mself\u001b[39m\u001b[38;5;241m.\u001b[39m_values, other)\n\u001b[0;32m   7127\u001b[0m \u001b[38;5;28;01melif\u001b[39;00m is_object_dtype(\u001b[38;5;28mself\u001b[39m\u001b[38;5;241m.\u001b[39mdtype) \u001b[38;5;129;01mand\u001b[39;00m \u001b[38;5;129;01mnot\u001b[39;00m \u001b[38;5;28misinstance\u001b[39m(\u001b[38;5;28mself\u001b[39m, ABCMultiIndex):\n\u001b[0;32m   7128\u001b[0m     \u001b[38;5;66;03m# don't pass MultiIndex\u001b[39;00m\n\u001b[1;32m-> 7129\u001b[0m     result \u001b[38;5;241m=\u001b[39m ops\u001b[38;5;241m.\u001b[39mcomp_method_OBJECT_ARRAY(op, \u001b[38;5;28mself\u001b[39m\u001b[38;5;241m.\u001b[39m_values, other)\n\u001b[0;32m   7131\u001b[0m \u001b[38;5;28;01melse\u001b[39;00m:\n\u001b[0;32m   7132\u001b[0m     result \u001b[38;5;241m=\u001b[39m ops\u001b[38;5;241m.\u001b[39mcomparison_op(\u001b[38;5;28mself\u001b[39m\u001b[38;5;241m.\u001b[39m_values, other, op)\n",
      "File \u001b[1;32mc:\\Users\\yyhho\\anaconda3\\Lib\\site-packages\\pandas\\core\\ops\\array_ops.py:131\u001b[0m, in \u001b[0;36mcomp_method_OBJECT_ARRAY\u001b[1;34m(op, x, y)\u001b[0m\n\u001b[0;32m    129\u001b[0m     result \u001b[38;5;241m=\u001b[39m libops\u001b[38;5;241m.\u001b[39mvec_compare(x\u001b[38;5;241m.\u001b[39mravel(), y\u001b[38;5;241m.\u001b[39mravel(), op)\n\u001b[0;32m    130\u001b[0m \u001b[38;5;28;01melse\u001b[39;00m:\n\u001b[1;32m--> 131\u001b[0m     result \u001b[38;5;241m=\u001b[39m libops\u001b[38;5;241m.\u001b[39mscalar_compare(x\u001b[38;5;241m.\u001b[39mravel(), y, op)\n\u001b[0;32m    132\u001b[0m \u001b[38;5;28;01mreturn\u001b[39;00m result\u001b[38;5;241m.\u001b[39mreshape(x\u001b[38;5;241m.\u001b[39mshape)\n",
      "File \u001b[1;32mops.pyx:107\u001b[0m, in \u001b[0;36mpandas._libs.ops.scalar_compare\u001b[1;34m()\u001b[0m\n",
      "\u001b[1;31mTypeError\u001b[0m: '>' not supported between instances of 'str' and 'Timestamp'"
     ]
    }
   ],
   "source": [
    "df2[df2.index > pd.to_datetime('2023-06-09')]"
   ]
  }
 ],
 "metadata": {
  "kernelspec": {
   "display_name": "base",
   "language": "python",
   "name": "python3"
  },
  "language_info": {
   "codemirror_mode": {
    "name": "ipython",
    "version": 3
   },
   "file_extension": ".py",
   "mimetype": "text/x-python",
   "name": "python",
   "nbconvert_exporter": "python",
   "pygments_lexer": "ipython3",
   "version": "3.11.7"
  }
 },
 "nbformat": 4,
 "nbformat_minor": 2
}
