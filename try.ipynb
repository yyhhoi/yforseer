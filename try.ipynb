{
 "cells": [
  {
   "cell_type": "markdown",
   "metadata": {},
   "source": [
    "# Import"
   ]
  },
  {
   "cell_type": "code",
   "execution_count": 2,
   "metadata": {},
   "outputs": [],
   "source": [
    "# import yfinance as yf\n",
    "import pandas as pd\n",
    "import os\n",
    "from os.path import join\n",
    "from datetime import datetime, timezone, timedelta\n",
    "import pandas as pd\n",
    "\n",
    "import matplotlib.pyplot as plt\n",
    "import numpy as np\n",
    "import logging\n",
    "import torch\n",
    "from torch.utils.data import DataLoader\n",
    "import torch.nn as nn\n",
    "from yforseer.networks import StockNet\n",
    "from yforseer.datasets import StockDataset\n",
    "from yforseer.trainers import StockNetTrainer\n",
    "import mlflow\n",
    "from tqdm import tqdm\n",
    "\n"
   ]
  },
  {
   "cell_type": "markdown",
   "metadata": {},
   "source": [
    "# Dataset and loader"
   ]
  },
  {
   "cell_type": "code",
   "execution_count": 2,
   "metadata": {},
   "outputs": [
    {
     "name": "stdout",
     "output_type": "stream",
     "text": [
      "train_dataset: 5283\n",
      "test_dataset: 507\n"
     ]
    }
   ],
   "source": [
    "\n",
    "# Load dataset\n",
    "load_array_pth = 'data/yahoo/artifacts/data_array.npz'\n",
    "data = torch.from_numpy(np.load(load_array_pth)['data']).to(torch.float32)\n",
    "num_days = data.shape[1]\n",
    "test_size = int(0.1 * num_days)\n",
    "train_size = num_days - test_size\n",
    "train_data = data[:, :train_size]\n",
    "test_data = data[:, train_size:]\n",
    "train_dataset = StockDataset(data = train_data, memory=60, lookahead=30, mode='last')\n",
    "test_dataset = StockDataset(data = test_data, memory=60, lookahead=30, mode='last')\n",
    "print('train_dataset:', len(train_dataset))\n",
    "print('test_dataset:', len(test_dataset))\n"
   ]
  },
  {
   "cell_type": "code",
   "execution_count": null,
   "metadata": {},
   "outputs": [],
   "source": [
    "batch_size = 32\n",
    "epochs = 20\n",
    "lr = 0.0001\n",
    "\n",
    "\n",
    "train_dataloader = DataLoader(train_dataset, batch_size=batch_size)\n",
    "test_dataloader = DataLoader(test_dataset, batch_size=batch_size)\n",
    "\n",
    "# Train\n",
    "trainer = StockNetTrainer(lr=1e-4)    \n",
    "for epoch in tqdm(range(epochs)):\n",
    "    train_loss_list, test_loss_list = [], []\n",
    "    i = 0\n",
    "    trainer.model.train()\n",
    "    for X_train, y_train in tqdm(train_dataloader, leave=False):\n",
    "        train_loss, _ = trainer.train(X_train, y_train)\n",
    "        train_loss_list.append(train_loss)\n",
    "        if i > 10:\n",
    "            break\n",
    "        i += 1\n",
    "\n",
    "    trainer.model.eval()\n",
    "    for X_test, y_test in tqdm(test_dataloader, leave=False):\n",
    "        test_loss, _ = trainer.test(X_test, y_test)\n",
    "        test_loss_list.append(test_loss)\n",
    "\n",
    "\n",
    "    # Log metrics\n",
    "#     mlflow.log_metric('train_loss', np.mean(train_loss_list), step=epoch)\n",
    "#     mlflow.log_metric('test_loss', np.mean(test_loss_list), step=epoch)\n",
    "\n",
    "\n",
    "# mlflow.end_run()"
   ]
  },
  {
   "cell_type": "markdown",
   "metadata": {},
   "source": [
    "# Data Augmentation (Cauchy noise)"
   ]
  },
  {
   "cell_type": "code",
   "execution_count": 3,
   "metadata": {},
   "outputs": [
    {
     "data": {
      "text/plain": [
       "(37, 5968)"
      ]
     },
     "execution_count": 3,
     "metadata": {},
     "output_type": "execute_result"
    }
   ],
   "source": [
    "from scipy.stats import cauchy\n",
    "\n",
    "load_array_pth = 'data/yahoo/artifacts/data_array.npz'\n",
    "\n",
    "data = np.load(load_array_pth)['data']\n",
    "\n",
    "data.shape"
   ]
  },
  {
   "cell_type": "code",
   "execution_count": 4,
   "metadata": {},
   "outputs": [
    {
     "name": "stdout",
     "output_type": "stream",
     "text": [
      "[-1.34581207e-04 -3.73345853e-04 -1.87918788e-04 -6.57480518e-04\n",
      "  7.47870637e-05  4.80577388e-05 -2.96552997e-04 -1.23780490e-04\n",
      " -4.78253810e-04 -2.17964666e-04 -3.73262899e-04 -2.63399862e-04\n",
      " -1.62304603e-04 -6.95632948e-05 -7.41880536e-05 -4.83317354e-05\n",
      " -1.70676309e-06 -1.65517486e-04 -4.94415664e-05  3.98083220e-06\n",
      " -1.16658931e-04 -1.07414616e-04 -9.09776322e-05  4.21008238e-05\n",
      " -7.77901132e-05 -1.34647649e-04 -2.29164183e-04 -4.35837442e-04\n",
      "  9.85217158e-07 -3.44214456e-04 -8.16614127e-05 -2.70074302e-05\n",
      "  1.67275089e-06 -1.03781213e-04 -1.08698463e-04  1.33341211e-06\n",
      " -4.16730064e-04]\n",
      "[0.00456617 0.01406928 0.00936564 0.0135501  0.00558139 0.00475629\n",
      " 0.00768252 0.01183807 0.00674872 0.00756358 0.0135226  0.01390011\n",
      " 0.00651684 0.00445058 0.0037361  0.0037749  0.00553962 0.0081209\n",
      " 0.00587823 0.00494116 0.01051899 0.00808454 0.00993664 0.00451333\n",
      " 0.00405005 0.00456602 0.01164874 0.01710603 0.00505093 0.00645618\n",
      " 0.00640125 0.01284077 0.00625733 0.00875654 0.0094962  0.00883438\n",
      " 0.01203126]\n"
     ]
    }
   ],
   "source": [
    "xdiff = np.diff(data, axis=1)\n",
    "mds = np.median(xdiff, axis=1)\n",
    "gammas = np.median(np.abs(xdiff - mds.reshape(-1, 1)), axis=1)\n",
    "print(mds)\n",
    "print(gammas)"
   ]
  },
  {
   "cell_type": "code",
   "execution_count": 5,
   "metadata": {},
   "outputs": [],
   "source": [
    "\n",
    "def truncated_cauchy(scale, N, bound):\n",
    "    noise = np.ones(N) * bound *2\n",
    "    mask = noise > bound\n",
    "    while N > 0:\n",
    "        noise[mask] = cauchy.rvs(loc=0, scale=scale, size=N)\n",
    "        mask = np.abs(noise) > bound\n",
    "        N = np.sum(mask)\n",
    "    return noise\n",
    "\n",
    "\n"
   ]
  },
  {
   "cell_type": "code",
   "execution_count": 6,
   "metadata": {},
   "outputs": [
    {
     "data": {
      "text/plain": [
       "Text(0.5, 1.0, 'Noise = Cauchy(0, 0.00937)')"
      ]
     },
     "execution_count": 6,
     "metadata": {},
     "output_type": "execute_result"
    }
   ],
   "source": [
    "%matplotlib qt\n",
    "i = 2\n",
    "t = 1000\n",
    "\n",
    "scale = gammas[i]\n",
    "bound = 5* scale\n",
    "foox = data[i, :t]\n",
    "\n",
    "noise = truncated_cauchy(scale, t-1, bound)\n",
    "# noise = cauchy.rvs(loc=0, scale=scale, size=t-1)\n",
    "\n",
    "foox_change = foox[:-1] + noise\n",
    "foox2 = foox.copy()\n",
    "\n",
    "foox2[1:] = foox_change \n",
    "\n",
    "fig, ax = plt.subplots( figsize=(10, 5))\n",
    "\n",
    "ax.plot(foox, marker='x', color='navy')\n",
    "ax.plot(foox2, marker='x', color='r', alpha=0.4)\n",
    "ax.set_title(f'Noise = Cauchy(0, {scale:0.5f})')\n"
   ]
  },
  {
   "cell_type": "code",
   "execution_count": 65,
   "metadata": {},
   "outputs": [
    {
     "data": {
      "text/plain": [
       "[<matplotlib.lines.Line2D at 0x25e0534ae90>]"
      ]
     },
     "execution_count": 65,
     "metadata": {},
     "output_type": "execute_result"
    }
   ],
   "source": [
    "xax = np.linspace(-2, 2, 1000)\n",
    "out = cauchy.pdf(xax, scale=gammas[i])\n",
    "plt.plot(xax, out)"
   ]
  },
  {
   "cell_type": "code",
   "execution_count": 69,
   "metadata": {},
   "outputs": [
    {
     "data": {
      "text/plain": [
       "29.811767309109776"
      ]
     },
     "execution_count": 69,
     "metadata": {},
     "output_type": "execute_result"
    }
   ],
   "source": [
    "cauchy.ppf(0.9999, scale=gammas[i])"
   ]
  },
  {
   "cell_type": "code",
   "execution_count": 11,
   "metadata": {},
   "outputs": [],
   "source": [
    "xdiff = np.diff(data, axis=1)\n",
    "\n",
    "mu_each = xdiff.mean(axis=1)\n",
    "std_each = xdiff.std(axis=1)\n",
    "\n",
    "\n",
    "\n",
    "fig, ax = plt.subplots(8, 5, figsize=(20, 28))\n",
    "ax = ax.flatten()\n",
    "for i in range(37):\n",
    "\n",
    "    mu, std = mu_each[i], std_each[i]\n",
    "    min_val = mu - 3 * std\n",
    "    max_val = mu + 3 * std\n",
    "\n",
    "    md = np.median(xdiff[i])\n",
    "    # gamma = np.quantile(xdiff[i], 0.50 + 0.125) - np.quantile(xdiff[i], 0.50 - 0.125)\n",
    "\n",
    "    gamma = np.median(np.abs(xdiff[i] - md))\n",
    "\n",
    "\n",
    "    edges = np.linspace(min_val, max_val, 100)\n",
    "    hist, _ = np.histogram(xdiff[i], bins=edges)\n",
    "    xax = np.linspace(min_val, max_val, 100)\n",
    "    std = std/2\n",
    "    # gau = cauchy.pdf(xax, loc=md, scale=gamma)\n",
    "    gau = np.exp(-0.5 * ((xax - mu) / std) ** 2) / (std * np.sqrt(2 * np.pi))\n",
    "    gau = gau / gau.max() * hist.max()\n",
    "    \n",
    "    ax[i].plot(xax, gau, c='r', lw=1)\n",
    "\n",
    "    _ = ax[i].bar(edges[:-1], hist, width = edges[1] - edges[0], color='b', alpha=0.5)\n"
   ]
  },
  {
   "cell_type": "code",
   "execution_count": 14,
   "metadata": {},
   "outputs": [
    {
     "data": {
      "text/plain": [
       "array([0.00952226, 0.03400638, 0.01979952, 0.03061999, 0.01425464,\n",
       "       0.01106359, 0.02056497, 0.02997977, 0.01538702, 0.043559  ,\n",
       "       0.03189735, 0.03558561, 0.01935995, 0.0097435 , 0.00778699,\n",
       "       0.00800005, 0.01111082, 0.02270477, 0.01288581, 0.01082773,\n",
       "       0.03310014, 0.02263263, 0.02330984, 0.01035722, 0.00815965,\n",
       "       0.00947122, 0.02459829, 0.03968533, 0.01234657, 0.01421282,\n",
       "       0.01470881, 0.03176873, 0.01671189, 0.02044283, 0.02069599,\n",
       "       0.03890058, 0.03643183])"
      ]
     },
     "execution_count": 14,
     "metadata": {},
     "output_type": "execute_result"
    }
   ],
   "source": [
    "std_each"
   ]
  },
  {
   "cell_type": "code",
   "execution_count": 21,
   "metadata": {},
   "outputs": [
    {
     "data": {
      "text/plain": [
       "tensor([[[ 0.0000],\n",
       "         [-7.3291]]])"
      ]
     },
     "execution_count": 21,
     "metadata": {},
     "output_type": "execute_result"
    }
   ],
   "source": [
    "stds = torch.tensor([0, 10], dtype=torch.float32).reshape(1, 2, 1)\n",
    "torch.normal(mean=0, std=stds)"
   ]
  }
 ],
 "metadata": {
  "kernelspec": {
   "display_name": "Python 3 (ipykernel)",
   "language": "python",
   "name": "python3"
  },
  "language_info": {
   "codemirror_mode": {
    "name": "ipython",
    "version": 3
   },
   "file_extension": ".py",
   "mimetype": "text/x-python",
   "name": "python",
   "nbconvert_exporter": "python",
   "pygments_lexer": "ipython3",
   "version": "3.11.7"
  }
 },
 "nbformat": 4,
 "nbformat_minor": 4
}
