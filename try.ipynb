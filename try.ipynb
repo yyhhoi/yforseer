{
 "cells": [
  {
   "cell_type": "markdown",
   "metadata": {},
   "source": [
    "# Import"
   ]
  },
  {
   "cell_type": "code",
   "execution_count": 1,
   "metadata": {},
   "outputs": [],
   "source": [
    "# import yfinance as yf\n",
    "import pandas as pd\n",
    "import os\n",
    "from os.path import join\n",
    "from datetime import datetime, timezone, timedelta\n",
    "import pandas as pd\n",
    "from yforseer.scraping import update_raw_tables, load_ticker_list, RawDF_Schema\n",
    "import matplotlib.pyplot as plt\n",
    "import numpy as np\n",
    "import logging\n",
    "data_dir = 'data/yahoo/tickerdaily'"
   ]
  },
  {
   "cell_type": "markdown",
   "metadata": {},
   "source": [
    "# Scraping"
   ]
  },
  {
   "cell_type": "code",
   "execution_count": null,
   "metadata": {},
   "outputs": [],
   "source": [
    "logging.basicConfig(level=logging.INFO)\n",
    "ticker_list = load_ticker_list('yforseer/ticker_list.csv')\n",
    "update_raw_tables(data_dir, ticker_list)"
   ]
  },
  {
   "cell_type": "markdown",
   "metadata": {},
   "source": [
    "# Combine dataframe"
   ]
  },
  {
   "cell_type": "code",
   "execution_count": 9,
   "metadata": {},
   "outputs": [],
   "source": [
    "from yforseer.prepare_data import combine_raw_csvs\n",
    "combine_raw_csvs(raw_data_dir = 'data/yahoo/tickerdaily', \n",
    "           save_df_pth = 'data/yahoo/artifacts/combined.csv')\n",
    "\n"
   ]
  },
  {
   "cell_type": "markdown",
   "metadata": {},
   "source": [
    "# Select time period, interpolate, stack arrays"
   ]
  },
  {
   "cell_type": "code",
   "execution_count": 2,
   "metadata": {},
   "outputs": [
    {
     "name": "stdout",
     "output_type": "stream",
     "text": [
      "1COV.DE has 114/4318 = 0.0264 missing values, filled with interpolation.\n",
      "ALV.DE has 114/4318 = 0.0264 missing values, filled with interpolation.\n",
      "AMZ.DE has 114/4318 = 0.0264 missing values, filled with interpolation.\n",
      "APC.DE has 114/4318 = 0.0264 missing values, filled with interpolation.\n",
      "BAS.DE has 114/4318 = 0.0264 missing values, filled with interpolation.\n",
      "DHL.DE has 126/4318 = 0.0292 missing values, filled with interpolation.\n",
      "MBG.DE has 114/4318 = 0.0264 missing values, filled with interpolation.\n",
      "MSF.DE has 114/4318 = 0.0264 missing values, filled with interpolation.\n",
      "NVD.DE has 114/4318 = 0.0264 missing values, filled with interpolation.\n",
      "RHM.DE has 114/4318 = 0.0264 missing values, filled with interpolation.\n",
      "VOW3.DE has 114/4318 = 0.0264 missing values, filled with interpolation.\n",
      "X's shape = \n",
      "(4258, 11, 30)\n",
      "y's shape = \n",
      "(4258, 11, 4)\n"
     ]
    }
   ],
   "source": [
    "from yforseer.prepare_data import extract_features\n",
    "\n",
    "extract_features('data/yahoo/artifacts/combined.csv',\n",
    "                 save_npz_pth='data/yahoo/artifacts/Xy.npz',\n",
    "                 memory=30,\n",
    "                 lookahead=30)"
   ]
  }
 ],
 "metadata": {
  "kernelspec": {
   "display_name": "Python 3 (ipykernel)",
   "language": "python",
   "name": "python3"
  },
  "language_info": {
   "codemirror_mode": {
    "name": "ipython",
    "version": 3
   },
   "file_extension": ".py",
   "mimetype": "text/x-python",
   "name": "python",
   "nbconvert_exporter": "python",
   "pygments_lexer": "ipython3",
   "version": "3.11.7"
  }
 },
 "nbformat": 4,
 "nbformat_minor": 4
}
